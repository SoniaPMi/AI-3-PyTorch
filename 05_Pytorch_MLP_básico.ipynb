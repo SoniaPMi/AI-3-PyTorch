{
  "nbformat": 4,
  "nbformat_minor": 0,
  "metadata": {
    "accelerator": "GPU",
    "colab": {
      "name": "05-Pytorch-MLP_básico.ipynb",
      "provenance": [],
      "collapsed_sections": [
        "wdphVwCopeT5",
        "n2QOf-HEltUP"
      ],
      "include_colab_link": true
    },
    "kernelspec": {
      "display_name": "Python 3",
      "language": "python",
      "name": "python3"
    },
    "language_info": {
      "codemirror_mode": {
        "name": "ipython",
        "version": 3
      },
      "file_extension": ".py",
      "mimetype": "text/x-python",
      "name": "python",
      "nbconvert_exporter": "python",
      "pygments_lexer": "ipython3",
      "version": "3.8.5"
    },
    "widgets": {
      "application/vnd.jupyter.widget-state+json": {
        "6ca8ddc6aeb34e68b1baf7d108cadc13": {
          "model_module": "@jupyter-widgets/controls",
          "model_name": "HBoxModel",
          "model_module_version": "1.5.0",
          "state": {
            "_view_name": "HBoxView",
            "_dom_classes": [],
            "_model_name": "HBoxModel",
            "_view_module": "@jupyter-widgets/controls",
            "_model_module_version": "1.5.0",
            "_view_count": null,
            "_view_module_version": "1.5.0",
            "box_style": "",
            "layout": "IPY_MODEL_376e69a3a98144849058af3c6b786d74",
            "_model_module": "@jupyter-widgets/controls",
            "children": [
              "IPY_MODEL_55e5d7641225436e9101246d8327a8ef",
              "IPY_MODEL_971e0c72d76e448e83f93da6310e925c",
              "IPY_MODEL_0c5d9d7e6a60451d9b8a109f9e9fe2d7"
            ]
          }
        },
        "376e69a3a98144849058af3c6b786d74": {
          "model_module": "@jupyter-widgets/base",
          "model_name": "LayoutModel",
          "model_module_version": "1.2.0",
          "state": {
            "_view_name": "LayoutView",
            "grid_template_rows": null,
            "right": null,
            "justify_content": null,
            "_view_module": "@jupyter-widgets/base",
            "overflow": null,
            "_model_module_version": "1.2.0",
            "_view_count": null,
            "flex_flow": null,
            "width": null,
            "min_width": null,
            "border": null,
            "align_items": null,
            "bottom": null,
            "_model_module": "@jupyter-widgets/base",
            "top": null,
            "grid_column": null,
            "overflow_y": null,
            "overflow_x": null,
            "grid_auto_flow": null,
            "grid_area": null,
            "grid_template_columns": null,
            "flex": null,
            "_model_name": "LayoutModel",
            "justify_items": null,
            "grid_row": null,
            "max_height": null,
            "align_content": null,
            "visibility": null,
            "align_self": null,
            "height": null,
            "min_height": null,
            "padding": null,
            "grid_auto_rows": null,
            "grid_gap": null,
            "max_width": null,
            "order": null,
            "_view_module_version": "1.2.0",
            "grid_template_areas": null,
            "object_position": null,
            "object_fit": null,
            "grid_auto_columns": null,
            "margin": null,
            "display": null,
            "left": null
          }
        },
        "55e5d7641225436e9101246d8327a8ef": {
          "model_module": "@jupyter-widgets/controls",
          "model_name": "HTMLModel",
          "model_module_version": "1.5.0",
          "state": {
            "_view_name": "HTMLView",
            "style": "IPY_MODEL_c6013cab0a8c487a8d8b98d85c5cc72d",
            "_dom_classes": [],
            "description": "",
            "_model_name": "HTMLModel",
            "placeholder": "​",
            "_view_module": "@jupyter-widgets/controls",
            "_model_module_version": "1.5.0",
            "value": "",
            "_view_count": null,
            "_view_module_version": "1.5.0",
            "description_tooltip": null,
            "_model_module": "@jupyter-widgets/controls",
            "layout": "IPY_MODEL_7089dc491fc14ca09b5af3b7b6c5cda2"
          }
        },
        "971e0c72d76e448e83f93da6310e925c": {
          "model_module": "@jupyter-widgets/controls",
          "model_name": "FloatProgressModel",
          "model_module_version": "1.5.0",
          "state": {
            "_view_name": "ProgressView",
            "style": "IPY_MODEL_fe6e748b492d498bb44801bf12e42004",
            "_dom_classes": [],
            "description": "",
            "_model_name": "FloatProgressModel",
            "bar_style": "success",
            "max": 9912422,
            "_view_module": "@jupyter-widgets/controls",
            "_model_module_version": "1.5.0",
            "value": 9912422,
            "_view_count": null,
            "_view_module_version": "1.5.0",
            "orientation": "horizontal",
            "min": 0,
            "description_tooltip": null,
            "_model_module": "@jupyter-widgets/controls",
            "layout": "IPY_MODEL_f182aa39a2184800b7b398e5bed852ef"
          }
        },
        "0c5d9d7e6a60451d9b8a109f9e9fe2d7": {
          "model_module": "@jupyter-widgets/controls",
          "model_name": "HTMLModel",
          "model_module_version": "1.5.0",
          "state": {
            "_view_name": "HTMLView",
            "style": "IPY_MODEL_d036b26dfaff4a0e8d59403f0ea85d6e",
            "_dom_classes": [],
            "description": "",
            "_model_name": "HTMLModel",
            "placeholder": "​",
            "_view_module": "@jupyter-widgets/controls",
            "_model_module_version": "1.5.0",
            "value": " 9913344/? [00:00&lt;00:00, 50684664.77it/s]",
            "_view_count": null,
            "_view_module_version": "1.5.0",
            "description_tooltip": null,
            "_model_module": "@jupyter-widgets/controls",
            "layout": "IPY_MODEL_68c501c70c884d288a6269ab34b7c8b3"
          }
        },
        "c6013cab0a8c487a8d8b98d85c5cc72d": {
          "model_module": "@jupyter-widgets/controls",
          "model_name": "DescriptionStyleModel",
          "model_module_version": "1.5.0",
          "state": {
            "_view_name": "StyleView",
            "_model_name": "DescriptionStyleModel",
            "description_width": "",
            "_view_module": "@jupyter-widgets/base",
            "_model_module_version": "1.5.0",
            "_view_count": null,
            "_view_module_version": "1.2.0",
            "_model_module": "@jupyter-widgets/controls"
          }
        },
        "7089dc491fc14ca09b5af3b7b6c5cda2": {
          "model_module": "@jupyter-widgets/base",
          "model_name": "LayoutModel",
          "model_module_version": "1.2.0",
          "state": {
            "_view_name": "LayoutView",
            "grid_template_rows": null,
            "right": null,
            "justify_content": null,
            "_view_module": "@jupyter-widgets/base",
            "overflow": null,
            "_model_module_version": "1.2.0",
            "_view_count": null,
            "flex_flow": null,
            "width": null,
            "min_width": null,
            "border": null,
            "align_items": null,
            "bottom": null,
            "_model_module": "@jupyter-widgets/base",
            "top": null,
            "grid_column": null,
            "overflow_y": null,
            "overflow_x": null,
            "grid_auto_flow": null,
            "grid_area": null,
            "grid_template_columns": null,
            "flex": null,
            "_model_name": "LayoutModel",
            "justify_items": null,
            "grid_row": null,
            "max_height": null,
            "align_content": null,
            "visibility": null,
            "align_self": null,
            "height": null,
            "min_height": null,
            "padding": null,
            "grid_auto_rows": null,
            "grid_gap": null,
            "max_width": null,
            "order": null,
            "_view_module_version": "1.2.0",
            "grid_template_areas": null,
            "object_position": null,
            "object_fit": null,
            "grid_auto_columns": null,
            "margin": null,
            "display": null,
            "left": null
          }
        },
        "fe6e748b492d498bb44801bf12e42004": {
          "model_module": "@jupyter-widgets/controls",
          "model_name": "ProgressStyleModel",
          "model_module_version": "1.5.0",
          "state": {
            "_view_name": "StyleView",
            "_model_name": "ProgressStyleModel",
            "description_width": "",
            "_view_module": "@jupyter-widgets/base",
            "_model_module_version": "1.5.0",
            "_view_count": null,
            "_view_module_version": "1.2.0",
            "bar_color": null,
            "_model_module": "@jupyter-widgets/controls"
          }
        },
        "f182aa39a2184800b7b398e5bed852ef": {
          "model_module": "@jupyter-widgets/base",
          "model_name": "LayoutModel",
          "model_module_version": "1.2.0",
          "state": {
            "_view_name": "LayoutView",
            "grid_template_rows": null,
            "right": null,
            "justify_content": null,
            "_view_module": "@jupyter-widgets/base",
            "overflow": null,
            "_model_module_version": "1.2.0",
            "_view_count": null,
            "flex_flow": null,
            "width": null,
            "min_width": null,
            "border": null,
            "align_items": null,
            "bottom": null,
            "_model_module": "@jupyter-widgets/base",
            "top": null,
            "grid_column": null,
            "overflow_y": null,
            "overflow_x": null,
            "grid_auto_flow": null,
            "grid_area": null,
            "grid_template_columns": null,
            "flex": null,
            "_model_name": "LayoutModel",
            "justify_items": null,
            "grid_row": null,
            "max_height": null,
            "align_content": null,
            "visibility": null,
            "align_self": null,
            "height": null,
            "min_height": null,
            "padding": null,
            "grid_auto_rows": null,
            "grid_gap": null,
            "max_width": null,
            "order": null,
            "_view_module_version": "1.2.0",
            "grid_template_areas": null,
            "object_position": null,
            "object_fit": null,
            "grid_auto_columns": null,
            "margin": null,
            "display": null,
            "left": null
          }
        },
        "d036b26dfaff4a0e8d59403f0ea85d6e": {
          "model_module": "@jupyter-widgets/controls",
          "model_name": "DescriptionStyleModel",
          "model_module_version": "1.5.0",
          "state": {
            "_view_name": "StyleView",
            "_model_name": "DescriptionStyleModel",
            "description_width": "",
            "_view_module": "@jupyter-widgets/base",
            "_model_module_version": "1.5.0",
            "_view_count": null,
            "_view_module_version": "1.2.0",
            "_model_module": "@jupyter-widgets/controls"
          }
        },
        "68c501c70c884d288a6269ab34b7c8b3": {
          "model_module": "@jupyter-widgets/base",
          "model_name": "LayoutModel",
          "model_module_version": "1.2.0",
          "state": {
            "_view_name": "LayoutView",
            "grid_template_rows": null,
            "right": null,
            "justify_content": null,
            "_view_module": "@jupyter-widgets/base",
            "overflow": null,
            "_model_module_version": "1.2.0",
            "_view_count": null,
            "flex_flow": null,
            "width": null,
            "min_width": null,
            "border": null,
            "align_items": null,
            "bottom": null,
            "_model_module": "@jupyter-widgets/base",
            "top": null,
            "grid_column": null,
            "overflow_y": null,
            "overflow_x": null,
            "grid_auto_flow": null,
            "grid_area": null,
            "grid_template_columns": null,
            "flex": null,
            "_model_name": "LayoutModel",
            "justify_items": null,
            "grid_row": null,
            "max_height": null,
            "align_content": null,
            "visibility": null,
            "align_self": null,
            "height": null,
            "min_height": null,
            "padding": null,
            "grid_auto_rows": null,
            "grid_gap": null,
            "max_width": null,
            "order": null,
            "_view_module_version": "1.2.0",
            "grid_template_areas": null,
            "object_position": null,
            "object_fit": null,
            "grid_auto_columns": null,
            "margin": null,
            "display": null,
            "left": null
          }
        },
        "8c757ddc6db243e48a7f090381320c36": {
          "model_module": "@jupyter-widgets/controls",
          "model_name": "HBoxModel",
          "model_module_version": "1.5.0",
          "state": {
            "_view_name": "HBoxView",
            "_dom_classes": [],
            "_model_name": "HBoxModel",
            "_view_module": "@jupyter-widgets/controls",
            "_model_module_version": "1.5.0",
            "_view_count": null,
            "_view_module_version": "1.5.0",
            "box_style": "",
            "layout": "IPY_MODEL_f9d585cf0f4d4a7b8043f3bf5729ad2b",
            "_model_module": "@jupyter-widgets/controls",
            "children": [
              "IPY_MODEL_c365e3a7aade476e9fa497e86db82417",
              "IPY_MODEL_b0bccbe5b47d4faba7e1a88348c7738b",
              "IPY_MODEL_c8cbe817bbc843aba0bb3101741a83b3"
            ]
          }
        },
        "f9d585cf0f4d4a7b8043f3bf5729ad2b": {
          "model_module": "@jupyter-widgets/base",
          "model_name": "LayoutModel",
          "model_module_version": "1.2.0",
          "state": {
            "_view_name": "LayoutView",
            "grid_template_rows": null,
            "right": null,
            "justify_content": null,
            "_view_module": "@jupyter-widgets/base",
            "overflow": null,
            "_model_module_version": "1.2.0",
            "_view_count": null,
            "flex_flow": null,
            "width": null,
            "min_width": null,
            "border": null,
            "align_items": null,
            "bottom": null,
            "_model_module": "@jupyter-widgets/base",
            "top": null,
            "grid_column": null,
            "overflow_y": null,
            "overflow_x": null,
            "grid_auto_flow": null,
            "grid_area": null,
            "grid_template_columns": null,
            "flex": null,
            "_model_name": "LayoutModel",
            "justify_items": null,
            "grid_row": null,
            "max_height": null,
            "align_content": null,
            "visibility": null,
            "align_self": null,
            "height": null,
            "min_height": null,
            "padding": null,
            "grid_auto_rows": null,
            "grid_gap": null,
            "max_width": null,
            "order": null,
            "_view_module_version": "1.2.0",
            "grid_template_areas": null,
            "object_position": null,
            "object_fit": null,
            "grid_auto_columns": null,
            "margin": null,
            "display": null,
            "left": null
          }
        },
        "c365e3a7aade476e9fa497e86db82417": {
          "model_module": "@jupyter-widgets/controls",
          "model_name": "HTMLModel",
          "model_module_version": "1.5.0",
          "state": {
            "_view_name": "HTMLView",
            "style": "IPY_MODEL_ed21a7968a444795ac040f6142511dfc",
            "_dom_classes": [],
            "description": "",
            "_model_name": "HTMLModel",
            "placeholder": "​",
            "_view_module": "@jupyter-widgets/controls",
            "_model_module_version": "1.5.0",
            "value": "",
            "_view_count": null,
            "_view_module_version": "1.5.0",
            "description_tooltip": null,
            "_model_module": "@jupyter-widgets/controls",
            "layout": "IPY_MODEL_26bdc2f2f2c94c9f92910b6f12f36533"
          }
        },
        "b0bccbe5b47d4faba7e1a88348c7738b": {
          "model_module": "@jupyter-widgets/controls",
          "model_name": "FloatProgressModel",
          "model_module_version": "1.5.0",
          "state": {
            "_view_name": "ProgressView",
            "style": "IPY_MODEL_044091e022624467a66ce4c3cccc02d1",
            "_dom_classes": [],
            "description": "",
            "_model_name": "FloatProgressModel",
            "bar_style": "success",
            "max": 28881,
            "_view_module": "@jupyter-widgets/controls",
            "_model_module_version": "1.5.0",
            "value": 28881,
            "_view_count": null,
            "_view_module_version": "1.5.0",
            "orientation": "horizontal",
            "min": 0,
            "description_tooltip": null,
            "_model_module": "@jupyter-widgets/controls",
            "layout": "IPY_MODEL_6caaf8a662ae4daf912be40aba794835"
          }
        },
        "c8cbe817bbc843aba0bb3101741a83b3": {
          "model_module": "@jupyter-widgets/controls",
          "model_name": "HTMLModel",
          "model_module_version": "1.5.0",
          "state": {
            "_view_name": "HTMLView",
            "style": "IPY_MODEL_ffdc21a5266c40218d19d8e7d78b858d",
            "_dom_classes": [],
            "description": "",
            "_model_name": "HTMLModel",
            "placeholder": "​",
            "_view_module": "@jupyter-widgets/controls",
            "_model_module_version": "1.5.0",
            "value": " 29696/? [00:00&lt;00:00, 728497.03it/s]",
            "_view_count": null,
            "_view_module_version": "1.5.0",
            "description_tooltip": null,
            "_model_module": "@jupyter-widgets/controls",
            "layout": "IPY_MODEL_d2e78090f18b4debbd5354f5a54144ce"
          }
        },
        "ed21a7968a444795ac040f6142511dfc": {
          "model_module": "@jupyter-widgets/controls",
          "model_name": "DescriptionStyleModel",
          "model_module_version": "1.5.0",
          "state": {
            "_view_name": "StyleView",
            "_model_name": "DescriptionStyleModel",
            "description_width": "",
            "_view_module": "@jupyter-widgets/base",
            "_model_module_version": "1.5.0",
            "_view_count": null,
            "_view_module_version": "1.2.0",
            "_model_module": "@jupyter-widgets/controls"
          }
        },
        "26bdc2f2f2c94c9f92910b6f12f36533": {
          "model_module": "@jupyter-widgets/base",
          "model_name": "LayoutModel",
          "model_module_version": "1.2.0",
          "state": {
            "_view_name": "LayoutView",
            "grid_template_rows": null,
            "right": null,
            "justify_content": null,
            "_view_module": "@jupyter-widgets/base",
            "overflow": null,
            "_model_module_version": "1.2.0",
            "_view_count": null,
            "flex_flow": null,
            "width": null,
            "min_width": null,
            "border": null,
            "align_items": null,
            "bottom": null,
            "_model_module": "@jupyter-widgets/base",
            "top": null,
            "grid_column": null,
            "overflow_y": null,
            "overflow_x": null,
            "grid_auto_flow": null,
            "grid_area": null,
            "grid_template_columns": null,
            "flex": null,
            "_model_name": "LayoutModel",
            "justify_items": null,
            "grid_row": null,
            "max_height": null,
            "align_content": null,
            "visibility": null,
            "align_self": null,
            "height": null,
            "min_height": null,
            "padding": null,
            "grid_auto_rows": null,
            "grid_gap": null,
            "max_width": null,
            "order": null,
            "_view_module_version": "1.2.0",
            "grid_template_areas": null,
            "object_position": null,
            "object_fit": null,
            "grid_auto_columns": null,
            "margin": null,
            "display": null,
            "left": null
          }
        },
        "044091e022624467a66ce4c3cccc02d1": {
          "model_module": "@jupyter-widgets/controls",
          "model_name": "ProgressStyleModel",
          "model_module_version": "1.5.0",
          "state": {
            "_view_name": "StyleView",
            "_model_name": "ProgressStyleModel",
            "description_width": "",
            "_view_module": "@jupyter-widgets/base",
            "_model_module_version": "1.5.0",
            "_view_count": null,
            "_view_module_version": "1.2.0",
            "bar_color": null,
            "_model_module": "@jupyter-widgets/controls"
          }
        },
        "6caaf8a662ae4daf912be40aba794835": {
          "model_module": "@jupyter-widgets/base",
          "model_name": "LayoutModel",
          "model_module_version": "1.2.0",
          "state": {
            "_view_name": "LayoutView",
            "grid_template_rows": null,
            "right": null,
            "justify_content": null,
            "_view_module": "@jupyter-widgets/base",
            "overflow": null,
            "_model_module_version": "1.2.0",
            "_view_count": null,
            "flex_flow": null,
            "width": null,
            "min_width": null,
            "border": null,
            "align_items": null,
            "bottom": null,
            "_model_module": "@jupyter-widgets/base",
            "top": null,
            "grid_column": null,
            "overflow_y": null,
            "overflow_x": null,
            "grid_auto_flow": null,
            "grid_area": null,
            "grid_template_columns": null,
            "flex": null,
            "_model_name": "LayoutModel",
            "justify_items": null,
            "grid_row": null,
            "max_height": null,
            "align_content": null,
            "visibility": null,
            "align_self": null,
            "height": null,
            "min_height": null,
            "padding": null,
            "grid_auto_rows": null,
            "grid_gap": null,
            "max_width": null,
            "order": null,
            "_view_module_version": "1.2.0",
            "grid_template_areas": null,
            "object_position": null,
            "object_fit": null,
            "grid_auto_columns": null,
            "margin": null,
            "display": null,
            "left": null
          }
        },
        "ffdc21a5266c40218d19d8e7d78b858d": {
          "model_module": "@jupyter-widgets/controls",
          "model_name": "DescriptionStyleModel",
          "model_module_version": "1.5.0",
          "state": {
            "_view_name": "StyleView",
            "_model_name": "DescriptionStyleModel",
            "description_width": "",
            "_view_module": "@jupyter-widgets/base",
            "_model_module_version": "1.5.0",
            "_view_count": null,
            "_view_module_version": "1.2.0",
            "_model_module": "@jupyter-widgets/controls"
          }
        },
        "d2e78090f18b4debbd5354f5a54144ce": {
          "model_module": "@jupyter-widgets/base",
          "model_name": "LayoutModel",
          "model_module_version": "1.2.0",
          "state": {
            "_view_name": "LayoutView",
            "grid_template_rows": null,
            "right": null,
            "justify_content": null,
            "_view_module": "@jupyter-widgets/base",
            "overflow": null,
            "_model_module_version": "1.2.0",
            "_view_count": null,
            "flex_flow": null,
            "width": null,
            "min_width": null,
            "border": null,
            "align_items": null,
            "bottom": null,
            "_model_module": "@jupyter-widgets/base",
            "top": null,
            "grid_column": null,
            "overflow_y": null,
            "overflow_x": null,
            "grid_auto_flow": null,
            "grid_area": null,
            "grid_template_columns": null,
            "flex": null,
            "_model_name": "LayoutModel",
            "justify_items": null,
            "grid_row": null,
            "max_height": null,
            "align_content": null,
            "visibility": null,
            "align_self": null,
            "height": null,
            "min_height": null,
            "padding": null,
            "grid_auto_rows": null,
            "grid_gap": null,
            "max_width": null,
            "order": null,
            "_view_module_version": "1.2.0",
            "grid_template_areas": null,
            "object_position": null,
            "object_fit": null,
            "grid_auto_columns": null,
            "margin": null,
            "display": null,
            "left": null
          }
        },
        "7341fd076a4047718986f4e10cf971b5": {
          "model_module": "@jupyter-widgets/controls",
          "model_name": "HBoxModel",
          "model_module_version": "1.5.0",
          "state": {
            "_view_name": "HBoxView",
            "_dom_classes": [],
            "_model_name": "HBoxModel",
            "_view_module": "@jupyter-widgets/controls",
            "_model_module_version": "1.5.0",
            "_view_count": null,
            "_view_module_version": "1.5.0",
            "box_style": "",
            "layout": "IPY_MODEL_7918245692a8477ead917d284c0366a1",
            "_model_module": "@jupyter-widgets/controls",
            "children": [
              "IPY_MODEL_7350731a758c4514b7ad57262bd0b60a",
              "IPY_MODEL_3e612796f06c4f3f8d88e72a1532493b",
              "IPY_MODEL_fc82b51335824754afb5b9bbd7edcf16"
            ]
          }
        },
        "7918245692a8477ead917d284c0366a1": {
          "model_module": "@jupyter-widgets/base",
          "model_name": "LayoutModel",
          "model_module_version": "1.2.0",
          "state": {
            "_view_name": "LayoutView",
            "grid_template_rows": null,
            "right": null,
            "justify_content": null,
            "_view_module": "@jupyter-widgets/base",
            "overflow": null,
            "_model_module_version": "1.2.0",
            "_view_count": null,
            "flex_flow": null,
            "width": null,
            "min_width": null,
            "border": null,
            "align_items": null,
            "bottom": null,
            "_model_module": "@jupyter-widgets/base",
            "top": null,
            "grid_column": null,
            "overflow_y": null,
            "overflow_x": null,
            "grid_auto_flow": null,
            "grid_area": null,
            "grid_template_columns": null,
            "flex": null,
            "_model_name": "LayoutModel",
            "justify_items": null,
            "grid_row": null,
            "max_height": null,
            "align_content": null,
            "visibility": null,
            "align_self": null,
            "height": null,
            "min_height": null,
            "padding": null,
            "grid_auto_rows": null,
            "grid_gap": null,
            "max_width": null,
            "order": null,
            "_view_module_version": "1.2.0",
            "grid_template_areas": null,
            "object_position": null,
            "object_fit": null,
            "grid_auto_columns": null,
            "margin": null,
            "display": null,
            "left": null
          }
        },
        "7350731a758c4514b7ad57262bd0b60a": {
          "model_module": "@jupyter-widgets/controls",
          "model_name": "HTMLModel",
          "model_module_version": "1.5.0",
          "state": {
            "_view_name": "HTMLView",
            "style": "IPY_MODEL_e5eb93ba74c64fd9b78199e2fd37e009",
            "_dom_classes": [],
            "description": "",
            "_model_name": "HTMLModel",
            "placeholder": "​",
            "_view_module": "@jupyter-widgets/controls",
            "_model_module_version": "1.5.0",
            "value": "",
            "_view_count": null,
            "_view_module_version": "1.5.0",
            "description_tooltip": null,
            "_model_module": "@jupyter-widgets/controls",
            "layout": "IPY_MODEL_b484e37bd35d4ff09e746e70483896d1"
          }
        },
        "3e612796f06c4f3f8d88e72a1532493b": {
          "model_module": "@jupyter-widgets/controls",
          "model_name": "FloatProgressModel",
          "model_module_version": "1.5.0",
          "state": {
            "_view_name": "ProgressView",
            "style": "IPY_MODEL_de2b197292f34c71baa79255e48215b2",
            "_dom_classes": [],
            "description": "",
            "_model_name": "FloatProgressModel",
            "bar_style": "success",
            "max": 1648877,
            "_view_module": "@jupyter-widgets/controls",
            "_model_module_version": "1.5.0",
            "value": 1648877,
            "_view_count": null,
            "_view_module_version": "1.5.0",
            "orientation": "horizontal",
            "min": 0,
            "description_tooltip": null,
            "_model_module": "@jupyter-widgets/controls",
            "layout": "IPY_MODEL_022f3e7638ea4d708c9846de910fdc31"
          }
        },
        "fc82b51335824754afb5b9bbd7edcf16": {
          "model_module": "@jupyter-widgets/controls",
          "model_name": "HTMLModel",
          "model_module_version": "1.5.0",
          "state": {
            "_view_name": "HTMLView",
            "style": "IPY_MODEL_fd9ea906ced5426d9df75433bddf6809",
            "_dom_classes": [],
            "description": "",
            "_model_name": "HTMLModel",
            "placeholder": "​",
            "_view_module": "@jupyter-widgets/controls",
            "_model_module_version": "1.5.0",
            "value": " 1649664/? [00:00&lt;00:00, 14945283.20it/s]",
            "_view_count": null,
            "_view_module_version": "1.5.0",
            "description_tooltip": null,
            "_model_module": "@jupyter-widgets/controls",
            "layout": "IPY_MODEL_eda761ce1dca469bb12f39c93257b9a3"
          }
        },
        "e5eb93ba74c64fd9b78199e2fd37e009": {
          "model_module": "@jupyter-widgets/controls",
          "model_name": "DescriptionStyleModel",
          "model_module_version": "1.5.0",
          "state": {
            "_view_name": "StyleView",
            "_model_name": "DescriptionStyleModel",
            "description_width": "",
            "_view_module": "@jupyter-widgets/base",
            "_model_module_version": "1.5.0",
            "_view_count": null,
            "_view_module_version": "1.2.0",
            "_model_module": "@jupyter-widgets/controls"
          }
        },
        "b484e37bd35d4ff09e746e70483896d1": {
          "model_module": "@jupyter-widgets/base",
          "model_name": "LayoutModel",
          "model_module_version": "1.2.0",
          "state": {
            "_view_name": "LayoutView",
            "grid_template_rows": null,
            "right": null,
            "justify_content": null,
            "_view_module": "@jupyter-widgets/base",
            "overflow": null,
            "_model_module_version": "1.2.0",
            "_view_count": null,
            "flex_flow": null,
            "width": null,
            "min_width": null,
            "border": null,
            "align_items": null,
            "bottom": null,
            "_model_module": "@jupyter-widgets/base",
            "top": null,
            "grid_column": null,
            "overflow_y": null,
            "overflow_x": null,
            "grid_auto_flow": null,
            "grid_area": null,
            "grid_template_columns": null,
            "flex": null,
            "_model_name": "LayoutModel",
            "justify_items": null,
            "grid_row": null,
            "max_height": null,
            "align_content": null,
            "visibility": null,
            "align_self": null,
            "height": null,
            "min_height": null,
            "padding": null,
            "grid_auto_rows": null,
            "grid_gap": null,
            "max_width": null,
            "order": null,
            "_view_module_version": "1.2.0",
            "grid_template_areas": null,
            "object_position": null,
            "object_fit": null,
            "grid_auto_columns": null,
            "margin": null,
            "display": null,
            "left": null
          }
        },
        "de2b197292f34c71baa79255e48215b2": {
          "model_module": "@jupyter-widgets/controls",
          "model_name": "ProgressStyleModel",
          "model_module_version": "1.5.0",
          "state": {
            "_view_name": "StyleView",
            "_model_name": "ProgressStyleModel",
            "description_width": "",
            "_view_module": "@jupyter-widgets/base",
            "_model_module_version": "1.5.0",
            "_view_count": null,
            "_view_module_version": "1.2.0",
            "bar_color": null,
            "_model_module": "@jupyter-widgets/controls"
          }
        },
        "022f3e7638ea4d708c9846de910fdc31": {
          "model_module": "@jupyter-widgets/base",
          "model_name": "LayoutModel",
          "model_module_version": "1.2.0",
          "state": {
            "_view_name": "LayoutView",
            "grid_template_rows": null,
            "right": null,
            "justify_content": null,
            "_view_module": "@jupyter-widgets/base",
            "overflow": null,
            "_model_module_version": "1.2.0",
            "_view_count": null,
            "flex_flow": null,
            "width": null,
            "min_width": null,
            "border": null,
            "align_items": null,
            "bottom": null,
            "_model_module": "@jupyter-widgets/base",
            "top": null,
            "grid_column": null,
            "overflow_y": null,
            "overflow_x": null,
            "grid_auto_flow": null,
            "grid_area": null,
            "grid_template_columns": null,
            "flex": null,
            "_model_name": "LayoutModel",
            "justify_items": null,
            "grid_row": null,
            "max_height": null,
            "align_content": null,
            "visibility": null,
            "align_self": null,
            "height": null,
            "min_height": null,
            "padding": null,
            "grid_auto_rows": null,
            "grid_gap": null,
            "max_width": null,
            "order": null,
            "_view_module_version": "1.2.0",
            "grid_template_areas": null,
            "object_position": null,
            "object_fit": null,
            "grid_auto_columns": null,
            "margin": null,
            "display": null,
            "left": null
          }
        },
        "fd9ea906ced5426d9df75433bddf6809": {
          "model_module": "@jupyter-widgets/controls",
          "model_name": "DescriptionStyleModel",
          "model_module_version": "1.5.0",
          "state": {
            "_view_name": "StyleView",
            "_model_name": "DescriptionStyleModel",
            "description_width": "",
            "_view_module": "@jupyter-widgets/base",
            "_model_module_version": "1.5.0",
            "_view_count": null,
            "_view_module_version": "1.2.0",
            "_model_module": "@jupyter-widgets/controls"
          }
        },
        "eda761ce1dca469bb12f39c93257b9a3": {
          "model_module": "@jupyter-widgets/base",
          "model_name": "LayoutModel",
          "model_module_version": "1.2.0",
          "state": {
            "_view_name": "LayoutView",
            "grid_template_rows": null,
            "right": null,
            "justify_content": null,
            "_view_module": "@jupyter-widgets/base",
            "overflow": null,
            "_model_module_version": "1.2.0",
            "_view_count": null,
            "flex_flow": null,
            "width": null,
            "min_width": null,
            "border": null,
            "align_items": null,
            "bottom": null,
            "_model_module": "@jupyter-widgets/base",
            "top": null,
            "grid_column": null,
            "overflow_y": null,
            "overflow_x": null,
            "grid_auto_flow": null,
            "grid_area": null,
            "grid_template_columns": null,
            "flex": null,
            "_model_name": "LayoutModel",
            "justify_items": null,
            "grid_row": null,
            "max_height": null,
            "align_content": null,
            "visibility": null,
            "align_self": null,
            "height": null,
            "min_height": null,
            "padding": null,
            "grid_auto_rows": null,
            "grid_gap": null,
            "max_width": null,
            "order": null,
            "_view_module_version": "1.2.0",
            "grid_template_areas": null,
            "object_position": null,
            "object_fit": null,
            "grid_auto_columns": null,
            "margin": null,
            "display": null,
            "left": null
          }
        },
        "f3c04c5291ed434c93036bb25164fd58": {
          "model_module": "@jupyter-widgets/controls",
          "model_name": "HBoxModel",
          "model_module_version": "1.5.0",
          "state": {
            "_view_name": "HBoxView",
            "_dom_classes": [],
            "_model_name": "HBoxModel",
            "_view_module": "@jupyter-widgets/controls",
            "_model_module_version": "1.5.0",
            "_view_count": null,
            "_view_module_version": "1.5.0",
            "box_style": "",
            "layout": "IPY_MODEL_18da9f3c8d504ed6a1b2c3cb6e2e813c",
            "_model_module": "@jupyter-widgets/controls",
            "children": [
              "IPY_MODEL_491fbe20e86e43cdbfa7c9e69981a2f1",
              "IPY_MODEL_745cc949e06540abb3ce95a331e53fd9",
              "IPY_MODEL_21af8d560b86419b825434bdf84d6204"
            ]
          }
        },
        "18da9f3c8d504ed6a1b2c3cb6e2e813c": {
          "model_module": "@jupyter-widgets/base",
          "model_name": "LayoutModel",
          "model_module_version": "1.2.0",
          "state": {
            "_view_name": "LayoutView",
            "grid_template_rows": null,
            "right": null,
            "justify_content": null,
            "_view_module": "@jupyter-widgets/base",
            "overflow": null,
            "_model_module_version": "1.2.0",
            "_view_count": null,
            "flex_flow": null,
            "width": null,
            "min_width": null,
            "border": null,
            "align_items": null,
            "bottom": null,
            "_model_module": "@jupyter-widgets/base",
            "top": null,
            "grid_column": null,
            "overflow_y": null,
            "overflow_x": null,
            "grid_auto_flow": null,
            "grid_area": null,
            "grid_template_columns": null,
            "flex": null,
            "_model_name": "LayoutModel",
            "justify_items": null,
            "grid_row": null,
            "max_height": null,
            "align_content": null,
            "visibility": null,
            "align_self": null,
            "height": null,
            "min_height": null,
            "padding": null,
            "grid_auto_rows": null,
            "grid_gap": null,
            "max_width": null,
            "order": null,
            "_view_module_version": "1.2.0",
            "grid_template_areas": null,
            "object_position": null,
            "object_fit": null,
            "grid_auto_columns": null,
            "margin": null,
            "display": null,
            "left": null
          }
        },
        "491fbe20e86e43cdbfa7c9e69981a2f1": {
          "model_module": "@jupyter-widgets/controls",
          "model_name": "HTMLModel",
          "model_module_version": "1.5.0",
          "state": {
            "_view_name": "HTMLView",
            "style": "IPY_MODEL_ca750309252847bfaf6290885705418f",
            "_dom_classes": [],
            "description": "",
            "_model_name": "HTMLModel",
            "placeholder": "​",
            "_view_module": "@jupyter-widgets/controls",
            "_model_module_version": "1.5.0",
            "value": "",
            "_view_count": null,
            "_view_module_version": "1.5.0",
            "description_tooltip": null,
            "_model_module": "@jupyter-widgets/controls",
            "layout": "IPY_MODEL_8ba82c284a14460eb7e795646cebd68f"
          }
        },
        "745cc949e06540abb3ce95a331e53fd9": {
          "model_module": "@jupyter-widgets/controls",
          "model_name": "FloatProgressModel",
          "model_module_version": "1.5.0",
          "state": {
            "_view_name": "ProgressView",
            "style": "IPY_MODEL_ae0505e61d8f426fbf471b14b9da0964",
            "_dom_classes": [],
            "description": "",
            "_model_name": "FloatProgressModel",
            "bar_style": "success",
            "max": 4542,
            "_view_module": "@jupyter-widgets/controls",
            "_model_module_version": "1.5.0",
            "value": 4542,
            "_view_count": null,
            "_view_module_version": "1.5.0",
            "orientation": "horizontal",
            "min": 0,
            "description_tooltip": null,
            "_model_module": "@jupyter-widgets/controls",
            "layout": "IPY_MODEL_91bb5d7d3d4a4c84a4fdf2b2125ff4ee"
          }
        },
        "21af8d560b86419b825434bdf84d6204": {
          "model_module": "@jupyter-widgets/controls",
          "model_name": "HTMLModel",
          "model_module_version": "1.5.0",
          "state": {
            "_view_name": "HTMLView",
            "style": "IPY_MODEL_ccf314ac3b2946449203fe14a6082f8e",
            "_dom_classes": [],
            "description": "",
            "_model_name": "HTMLModel",
            "placeholder": "​",
            "_view_module": "@jupyter-widgets/controls",
            "_model_module_version": "1.5.0",
            "value": " 5120/? [00:00&lt;00:00, 145837.32it/s]",
            "_view_count": null,
            "_view_module_version": "1.5.0",
            "description_tooltip": null,
            "_model_module": "@jupyter-widgets/controls",
            "layout": "IPY_MODEL_1192aa36c9584eb980d64d0f3b4b832a"
          }
        },
        "ca750309252847bfaf6290885705418f": {
          "model_module": "@jupyter-widgets/controls",
          "model_name": "DescriptionStyleModel",
          "model_module_version": "1.5.0",
          "state": {
            "_view_name": "StyleView",
            "_model_name": "DescriptionStyleModel",
            "description_width": "",
            "_view_module": "@jupyter-widgets/base",
            "_model_module_version": "1.5.0",
            "_view_count": null,
            "_view_module_version": "1.2.0",
            "_model_module": "@jupyter-widgets/controls"
          }
        },
        "8ba82c284a14460eb7e795646cebd68f": {
          "model_module": "@jupyter-widgets/base",
          "model_name": "LayoutModel",
          "model_module_version": "1.2.0",
          "state": {
            "_view_name": "LayoutView",
            "grid_template_rows": null,
            "right": null,
            "justify_content": null,
            "_view_module": "@jupyter-widgets/base",
            "overflow": null,
            "_model_module_version": "1.2.0",
            "_view_count": null,
            "flex_flow": null,
            "width": null,
            "min_width": null,
            "border": null,
            "align_items": null,
            "bottom": null,
            "_model_module": "@jupyter-widgets/base",
            "top": null,
            "grid_column": null,
            "overflow_y": null,
            "overflow_x": null,
            "grid_auto_flow": null,
            "grid_area": null,
            "grid_template_columns": null,
            "flex": null,
            "_model_name": "LayoutModel",
            "justify_items": null,
            "grid_row": null,
            "max_height": null,
            "align_content": null,
            "visibility": null,
            "align_self": null,
            "height": null,
            "min_height": null,
            "padding": null,
            "grid_auto_rows": null,
            "grid_gap": null,
            "max_width": null,
            "order": null,
            "_view_module_version": "1.2.0",
            "grid_template_areas": null,
            "object_position": null,
            "object_fit": null,
            "grid_auto_columns": null,
            "margin": null,
            "display": null,
            "left": null
          }
        },
        "ae0505e61d8f426fbf471b14b9da0964": {
          "model_module": "@jupyter-widgets/controls",
          "model_name": "ProgressStyleModel",
          "model_module_version": "1.5.0",
          "state": {
            "_view_name": "StyleView",
            "_model_name": "ProgressStyleModel",
            "description_width": "",
            "_view_module": "@jupyter-widgets/base",
            "_model_module_version": "1.5.0",
            "_view_count": null,
            "_view_module_version": "1.2.0",
            "bar_color": null,
            "_model_module": "@jupyter-widgets/controls"
          }
        },
        "91bb5d7d3d4a4c84a4fdf2b2125ff4ee": {
          "model_module": "@jupyter-widgets/base",
          "model_name": "LayoutModel",
          "model_module_version": "1.2.0",
          "state": {
            "_view_name": "LayoutView",
            "grid_template_rows": null,
            "right": null,
            "justify_content": null,
            "_view_module": "@jupyter-widgets/base",
            "overflow": null,
            "_model_module_version": "1.2.0",
            "_view_count": null,
            "flex_flow": null,
            "width": null,
            "min_width": null,
            "border": null,
            "align_items": null,
            "bottom": null,
            "_model_module": "@jupyter-widgets/base",
            "top": null,
            "grid_column": null,
            "overflow_y": null,
            "overflow_x": null,
            "grid_auto_flow": null,
            "grid_area": null,
            "grid_template_columns": null,
            "flex": null,
            "_model_name": "LayoutModel",
            "justify_items": null,
            "grid_row": null,
            "max_height": null,
            "align_content": null,
            "visibility": null,
            "align_self": null,
            "height": null,
            "min_height": null,
            "padding": null,
            "grid_auto_rows": null,
            "grid_gap": null,
            "max_width": null,
            "order": null,
            "_view_module_version": "1.2.0",
            "grid_template_areas": null,
            "object_position": null,
            "object_fit": null,
            "grid_auto_columns": null,
            "margin": null,
            "display": null,
            "left": null
          }
        },
        "ccf314ac3b2946449203fe14a6082f8e": {
          "model_module": "@jupyter-widgets/controls",
          "model_name": "DescriptionStyleModel",
          "model_module_version": "1.5.0",
          "state": {
            "_view_name": "StyleView",
            "_model_name": "DescriptionStyleModel",
            "description_width": "",
            "_view_module": "@jupyter-widgets/base",
            "_model_module_version": "1.5.0",
            "_view_count": null,
            "_view_module_version": "1.2.0",
            "_model_module": "@jupyter-widgets/controls"
          }
        },
        "1192aa36c9584eb980d64d0f3b4b832a": {
          "model_module": "@jupyter-widgets/base",
          "model_name": "LayoutModel",
          "model_module_version": "1.2.0",
          "state": {
            "_view_name": "LayoutView",
            "grid_template_rows": null,
            "right": null,
            "justify_content": null,
            "_view_module": "@jupyter-widgets/base",
            "overflow": null,
            "_model_module_version": "1.2.0",
            "_view_count": null,
            "flex_flow": null,
            "width": null,
            "min_width": null,
            "border": null,
            "align_items": null,
            "bottom": null,
            "_model_module": "@jupyter-widgets/base",
            "top": null,
            "grid_column": null,
            "overflow_y": null,
            "overflow_x": null,
            "grid_auto_flow": null,
            "grid_area": null,
            "grid_template_columns": null,
            "flex": null,
            "_model_name": "LayoutModel",
            "justify_items": null,
            "grid_row": null,
            "max_height": null,
            "align_content": null,
            "visibility": null,
            "align_self": null,
            "height": null,
            "min_height": null,
            "padding": null,
            "grid_auto_rows": null,
            "grid_gap": null,
            "max_width": null,
            "order": null,
            "_view_module_version": "1.2.0",
            "grid_template_areas": null,
            "object_position": null,
            "object_fit": null,
            "grid_auto_columns": null,
            "margin": null,
            "display": null,
            "left": null
          }
        }
      }
    }
  },
  "cells": [
    {
      "cell_type": "markdown",
      "metadata": {
        "id": "view-in-github",
        "colab_type": "text"
      },
      "source": [
        "<a href=\"https://colab.research.google.com/github/SoniaPMi/AI-3-PyTorch/blob/main/05_Pytorch_MLP_b%C3%A1sico.ipynb\" target=\"_parent\"><img src=\"https://colab.research.google.com/assets/colab-badge.svg\" alt=\"Open In Colab\"/></a>"
      ]
    },
    {
      "cell_type": "markdown",
      "metadata": {
        "id": "ghPSdPkCrLyk"
      },
      "source": [
        "![IDAL](https://i.imgur.com/tIKXIG1.jpg)  \n",
        "\n",
        "#<strong>**Máster en Inteligencia Artificial Avanzada y Aplicada  IA^3**</strong>\n",
        "---\n"
      ]
    },
    {
      "cell_type": "markdown",
      "metadata": {
        "id": "t_QAY1dE1_93"
      },
      "source": [
        "##<center>**Preceptrón multicapa (_MLP_) con Pytorh** </center>"
      ]
    },
    {
      "cell_type": "markdown",
      "metadata": {
        "id": "zRMQYXirpeT5"
      },
      "source": [
        "En este notebook vamos a estudiar los siguientes aspectos:\n",
        " \n",
        " * Creación de una red neuronal con capas ocultas\n",
        " * Incorporación del uso de funciones de activación no lineales\n",
        " * Aprovechamiento del uso de GPU (si es posible) para acelerar el entrenamiento\n",
        " * Experimentar con hiperparámetros para mejorar el modelo. "
      ]
    },
    {
      "cell_type": "markdown",
      "metadata": {
        "id": "wdphVwCopeT5"
      },
      "source": [
        "### Usando GPU para entrenar más rápido\n",
        "\n",
        "Como ya sabemos, uno de los motivos del gran desarrollo y auge que estamos experimentando en el machine learning y especialmente en deep learning es debido a la posibilidad de aprovechar **GPU** [Graphics Processing Unit](https://en.wikipedia.org/wiki/Graphics_processing_unit)  para entrenar a los modelos de una forma mucho más rápida. \n",
        "Dependiendo de la plataforma que empleemos será conveniente seguir algunas instrucciones: \n",
        "* _Google Colab_: Usa el menu option \"Entorno de Ejecución > Cambiar tipo de entorno de Ejecucion\" y selecciona \"GPU\" del menu \"Acelerador por Hardware\".\n",
        "* _Kaggle Kernel_: En el menu de opciones de la barra superior (los tres puntos), selecciona \"GPU\" del menu \"Acelerador\"\n",
        "* _Linux_: Si tu equipo de sobremesa o portátil tiene una tarjeta NVIDIA GPU (graphics card), asegurate que tienes instalados los drivers correctos y actualizados [Linux NVIDIA CUDA drivers](https://docs.nvidia.com/cuda/cuda-installation-guide-linux/index.html).\n",
        "* _Windows_: Si tu equipo de sobremesa o portátil tiene una tarjeta NVIDIA GPU (graphics card), asegurate que tienes instalados los drivers correctos y actualizados [Windows NVIDIA CUDA drivers](https://docs.nvidia.com/cuda/cuda-installation-guide-microsoft-windows/index.html).\n",
        "* _macOS_: macOS no es compatible con NVIDIA GPUs\n",
        " \n",
        "Si no tienes acceso a GPU no es problema ya que este notebook se puede ejecutar igulmente en una CPU normal ;)"
      ]
    },
    {
      "cell_type": "markdown",
      "metadata": {
        "id": "h1N-aPtrpeT5"
      },
      "source": [
        "## Preparando los datos\n",
        "\n",
        "En el cuaderno anterior, estudiamos como podíamos entrenar un modelo de regresión logística para identificar números escritos a mano del MNIST dataset, obteniendo una precisión de en torno al 86%. Cada número era una imagen de 28x28 píxeles en escala de grises. Recordemos el aspecto que tenía el datasetHere are some sample images from the dataset:\n",
        "\n",
        "![mnist-sample](https://i.imgur.com/CAYnuo1.jpg)\n",
        "\n",
        "Ya vimos que es bastante dificil mejorar dicha precisión, a pesar de dedicar más entrenamiento y jugar con los parámetros, empleando simplemente una regresión logística. Esto es así porque el modelo que desarrollamos asume que hay una relación lineal entre las entradas (intensidades de píxeles) y la salida (el número que representan). Y esto puede (probablemente) no ser cierto. \n",
        "\n",
        "Vamos a desarrollar un nuevo modelo simple de red neuronal que va a ser capaz de capturar esas relaciones no lineales que nos faltan para mejorar el resultado con dicho dataset: un perceptrón multicapa básico. \n",
        "Empezamos importando los módulos y clases necesarios de `torch`, `torchvision`, `numpy`, y `matplotlib`."
      ]
    },
    {
      "cell_type": "code",
      "metadata": {
        "id": "28gVv8fbpeT5"
      },
      "source": [
        "# Si ejecutas el notebook de forma local, descomenta la linea que corresponda a tu sistema operativo para instalar las libreriás correspondientes\n",
        "\n",
        "# Linux / Binder\n",
        "# !pip install numpy matplotlib torch==1.7.0+cpu torchvision==0.8.1+cpu torchaudio==0.7.0 -f https://download.pytorch.org/whl/torch_stable.html\n",
        "\n",
        "# Windows\n",
        "# !pip install numpy matplotlib torch==1.7.0+cpu torchvision==0.8.1+cpu torchaudio==0.7.0 -f https://download.pytorch.org/whl/torch_stable.html\n",
        "\n",
        "# MacOS\n",
        "# !pip install numpy matplotlib torch torchvision torchaudio"
      ],
      "execution_count": null,
      "outputs": []
    },
    {
      "cell_type": "code",
      "metadata": {
        "id": "WapU423CpeT5"
      },
      "source": [
        "import torch\n",
        "import torchvision\n",
        "import numpy as np\n",
        "import matplotlib\n",
        "import matplotlib.pyplot as plt\n",
        "import torch.nn as nn\n",
        "import torch.nn.functional as F\n",
        "from torchvision.datasets import MNIST\n",
        "from torchvision.transforms import ToTensor\n",
        "from torchvision.utils import make_grid\n",
        "from torch.utils.data.dataloader import DataLoader\n",
        "from torch.utils.data import random_split\n",
        "%matplotlib inline\n",
        "\n",
        "# Fondo blanco para todas las figuras matplotlib \n",
        "matplotlib.rcParams['figure.facecolor'] = '#ffffff'"
      ],
      "execution_count": 1,
      "outputs": []
    },
    {
      "cell_type": "markdown",
      "metadata": {
        "id": "wa8Y7hGhpeT5"
      },
      "source": [
        "Descargamos los datos y generamos un PyTorch dataset a partir de la clase` MNIST` de `torchvision.datasets`. "
      ]
    },
    {
      "cell_type": "code",
      "metadata": {
        "id": "CCfhGj-IpeT5",
        "colab": {
          "base_uri": "https://localhost:8080/",
          "height": 422,
          "referenced_widgets": [
            "6ca8ddc6aeb34e68b1baf7d108cadc13",
            "376e69a3a98144849058af3c6b786d74",
            "55e5d7641225436e9101246d8327a8ef",
            "971e0c72d76e448e83f93da6310e925c",
            "0c5d9d7e6a60451d9b8a109f9e9fe2d7",
            "c6013cab0a8c487a8d8b98d85c5cc72d",
            "7089dc491fc14ca09b5af3b7b6c5cda2",
            "fe6e748b492d498bb44801bf12e42004",
            "f182aa39a2184800b7b398e5bed852ef",
            "d036b26dfaff4a0e8d59403f0ea85d6e",
            "68c501c70c884d288a6269ab34b7c8b3",
            "8c757ddc6db243e48a7f090381320c36",
            "f9d585cf0f4d4a7b8043f3bf5729ad2b",
            "c365e3a7aade476e9fa497e86db82417",
            "b0bccbe5b47d4faba7e1a88348c7738b",
            "c8cbe817bbc843aba0bb3101741a83b3",
            "ed21a7968a444795ac040f6142511dfc",
            "26bdc2f2f2c94c9f92910b6f12f36533",
            "044091e022624467a66ce4c3cccc02d1",
            "6caaf8a662ae4daf912be40aba794835",
            "ffdc21a5266c40218d19d8e7d78b858d",
            "d2e78090f18b4debbd5354f5a54144ce",
            "7341fd076a4047718986f4e10cf971b5",
            "7918245692a8477ead917d284c0366a1",
            "7350731a758c4514b7ad57262bd0b60a",
            "3e612796f06c4f3f8d88e72a1532493b",
            "fc82b51335824754afb5b9bbd7edcf16",
            "e5eb93ba74c64fd9b78199e2fd37e009",
            "b484e37bd35d4ff09e746e70483896d1",
            "de2b197292f34c71baa79255e48215b2",
            "022f3e7638ea4d708c9846de910fdc31",
            "fd9ea906ced5426d9df75433bddf6809",
            "eda761ce1dca469bb12f39c93257b9a3",
            "f3c04c5291ed434c93036bb25164fd58",
            "18da9f3c8d504ed6a1b2c3cb6e2e813c",
            "491fbe20e86e43cdbfa7c9e69981a2f1",
            "745cc949e06540abb3ce95a331e53fd9",
            "21af8d560b86419b825434bdf84d6204",
            "ca750309252847bfaf6290885705418f",
            "8ba82c284a14460eb7e795646cebd68f",
            "ae0505e61d8f426fbf471b14b9da0964",
            "91bb5d7d3d4a4c84a4fdf2b2125ff4ee",
            "ccf314ac3b2946449203fe14a6082f8e",
            "1192aa36c9584eb980d64d0f3b4b832a"
          ]
        },
        "outputId": "d3e668e4-02f0-4a28-934a-0b3c6701a354"
      },
      "source": [
        "dataset = MNIST(root='data/', download=True, transform=ToTensor())"
      ],
      "execution_count": 2,
      "outputs": [
        {
          "output_type": "stream",
          "name": "stdout",
          "text": [
            "Downloading http://yann.lecun.com/exdb/mnist/train-images-idx3-ubyte.gz\n",
            "Downloading http://yann.lecun.com/exdb/mnist/train-images-idx3-ubyte.gz to data/MNIST/raw/train-images-idx3-ubyte.gz\n"
          ]
        },
        {
          "output_type": "display_data",
          "data": {
            "application/vnd.jupyter.widget-view+json": {
              "model_id": "6ca8ddc6aeb34e68b1baf7d108cadc13",
              "version_minor": 0,
              "version_major": 2
            },
            "text/plain": [
              "  0%|          | 0/9912422 [00:00<?, ?it/s]"
            ]
          },
          "metadata": {}
        },
        {
          "output_type": "stream",
          "name": "stdout",
          "text": [
            "Extracting data/MNIST/raw/train-images-idx3-ubyte.gz to data/MNIST/raw\n",
            "\n",
            "Downloading http://yann.lecun.com/exdb/mnist/train-labels-idx1-ubyte.gz\n",
            "Downloading http://yann.lecun.com/exdb/mnist/train-labels-idx1-ubyte.gz to data/MNIST/raw/train-labels-idx1-ubyte.gz\n"
          ]
        },
        {
          "output_type": "display_data",
          "data": {
            "application/vnd.jupyter.widget-view+json": {
              "model_id": "8c757ddc6db243e48a7f090381320c36",
              "version_minor": 0,
              "version_major": 2
            },
            "text/plain": [
              "  0%|          | 0/28881 [00:00<?, ?it/s]"
            ]
          },
          "metadata": {}
        },
        {
          "output_type": "stream",
          "name": "stdout",
          "text": [
            "Extracting data/MNIST/raw/train-labels-idx1-ubyte.gz to data/MNIST/raw\n",
            "\n",
            "Downloading http://yann.lecun.com/exdb/mnist/t10k-images-idx3-ubyte.gz\n",
            "Downloading http://yann.lecun.com/exdb/mnist/t10k-images-idx3-ubyte.gz to data/MNIST/raw/t10k-images-idx3-ubyte.gz\n"
          ]
        },
        {
          "output_type": "display_data",
          "data": {
            "application/vnd.jupyter.widget-view+json": {
              "model_id": "7341fd076a4047718986f4e10cf971b5",
              "version_minor": 0,
              "version_major": 2
            },
            "text/plain": [
              "  0%|          | 0/1648877 [00:00<?, ?it/s]"
            ]
          },
          "metadata": {}
        },
        {
          "output_type": "stream",
          "name": "stdout",
          "text": [
            "Extracting data/MNIST/raw/t10k-images-idx3-ubyte.gz to data/MNIST/raw\n",
            "\n",
            "Downloading http://yann.lecun.com/exdb/mnist/t10k-labels-idx1-ubyte.gz\n",
            "Downloading http://yann.lecun.com/exdb/mnist/t10k-labels-idx1-ubyte.gz to data/MNIST/raw/t10k-labels-idx1-ubyte.gz\n"
          ]
        },
        {
          "output_type": "display_data",
          "data": {
            "application/vnd.jupyter.widget-view+json": {
              "model_id": "f3c04c5291ed434c93036bb25164fd58",
              "version_minor": 0,
              "version_major": 2
            },
            "text/plain": [
              "  0%|          | 0/4542 [00:00<?, ?it/s]"
            ]
          },
          "metadata": {}
        },
        {
          "output_type": "stream",
          "name": "stdout",
          "text": [
            "Extracting data/MNIST/raw/t10k-labels-idx1-ubyte.gz to data/MNIST/raw\n",
            "\n"
          ]
        }
      ]
    },
    {
      "cell_type": "markdown",
      "metadata": {
        "id": "s8PQeFW82eCZ"
      },
      "source": [
        "Vamos a visualizar algunas imágenes. Recordemos que las imagenes han sido convertidas a tensores Pytorch con la forma `1x28x28` (canales de color, ancho y alto). Podemos emplear el método `plt.imshow` para ver las imágenes."
      ]
    },
    {
      "cell_type": "code",
      "metadata": {
        "id": "EBrhzbQF2eCa",
        "colab": {
          "base_uri": "https://localhost:8080/",
          "height": 300
        },
        "outputId": "945cd467-f5bc-4255-fba2-2477515be2e5"
      },
      "source": [
        "image, label = dataset[230]\n",
        "print('image.shape:', image.shape)\n",
        "plt.imshow(image[0], cmap='gray')\n",
        "print('Label:', label)"
      ],
      "execution_count": 3,
      "outputs": [
        {
          "output_type": "stream",
          "name": "stdout",
          "text": [
            "image.shape: torch.Size([1, 28, 28])\n",
            "Label: 7\n"
          ]
        },
        {
          "output_type": "display_data",
          "data": {
            "image/png": "[encoded data removed]",
            "text/plain": [
              "<Figure size 432x288 with 1 Axes>"
            ]
          },
          "metadata": {
            "needs_background": "light"
          }
        }
      ]
    },
    {
      "cell_type": "code",
      "metadata": {
        "id": "qE3SytuD2eCb",
        "colab": {
          "base_uri": "https://localhost:8080/",
          "height": 300
        },
        "outputId": "dd134d8d-a2e3-4748-aaa4-07f7ea29d06b"
      },
      "source": [
        "image, label = dataset[1000]\n",
        "print('image.shape:', image.shape)\n",
        "plt.imshow(image[0], cmap='gray')\n",
        "print('Label:', label)"
      ],
      "execution_count": 4,
      "outputs": [
        {
          "output_type": "stream",
          "name": "stdout",
          "text": [
            "image.shape: torch.Size([1, 28, 28])\n",
            "Label: 0\n"
          ]
        },
        {
          "output_type": "display_data",
          "data": {
            "image/png": "[encoded data removed]",
            "text/plain": [
              "<Figure size 432x288 with 1 Axes>"
            ]
          },
          "metadata": {
            "needs_background": "light"
          }
        }
      ]
    },
    {
      "cell_type": "markdown",
      "metadata": {
        "id": "4vjwsyaDpeT5"
      },
      "source": [
        "Ahora empleamos el método `random_split` para \"apartar\" 10000 imagenes para nuestro conjunto de validación."
      ]
    },
    {
      "cell_type": "code",
      "metadata": {
        "id": "Cgek18qlpeT5",
        "colab": {
          "base_uri": "https://localhost:8080/"
        },
        "outputId": "97f9d466-a704-4127-cd32-d5b5bb9c1a4e"
      },
      "source": [
        "val_size = 10000\n",
        "train_size = len(dataset) - val_size\n",
        "\n",
        "train_ds, val_ds = random_split(dataset, [train_size, val_size])\n",
        "len(train_ds), len(val_ds)"
      ],
      "execution_count": 5,
      "outputs": [
        {
          "output_type": "execute_result",
          "data": {
            "text/plain": [
              "(50000, 10000)"
            ]
          },
          "metadata": {},
          "execution_count": 5
        }
      ]
    },
    {
      "cell_type": "markdown",
      "metadata": {
        "id": "PxB8SiaYpeT6"
      },
      "source": [
        "Y ahora creamos los PyTorch data loaders para entrenamiento y validación, teniendo en cuenta un tamaño de lote especificado."
      ]
    },
    {
      "cell_type": "code",
      "metadata": {
        "id": "cK_hoRYSpeT6"
      },
      "source": [
        "batch_size=128"
      ],
      "execution_count": 6,
      "outputs": []
    },
    {
      "cell_type": "code",
      "metadata": {
        "id": "iShTOn-vpeT6"
      },
      "source": [
        "train_loader = DataLoader(train_ds, batch_size, shuffle=True, num_workers=2, pin_memory=True)\n",
        "val_loader = DataLoader(val_ds, batch_size*2, num_workers=2, pin_memory=True)"
      ],
      "execution_count": 10,
      "outputs": []
    },
    {
      "cell_type": "code",
      "metadata": {
        "id": "qF5xCrJlZho2",
        "colab": {
          "base_uri": "https://localhost:8080/"
        },
        "outputId": "3dd6772e-e3a0-4ae9-ac38-ce74ac1a94c1"
      },
      "source": [
        "len(train_loader)\n"
      ],
      "execution_count": 11,
      "outputs": [
        {
          "output_type": "execute_result",
          "data": {
            "text/plain": [
              "391"
            ]
          },
          "metadata": {},
          "execution_count": 11
        }
      ]
    },
    {
      "cell_type": "code",
      "source": [
        "len(val_loader)"
      ],
      "metadata": {
        "id": "fK4sAOEyMAWv",
        "colab": {
          "base_uri": "https://localhost:8080/"
        },
        "outputId": "451976f8-5007-4fca-e7de-2bd10dc2c3da"
      },
      "execution_count": 12,
      "outputs": [
        {
          "output_type": "execute_result",
          "data": {
            "text/plain": [
              "40"
            ]
          },
          "metadata": {},
          "execution_count": 12
        }
      ]
    },
    {
      "cell_type": "markdown",
      "metadata": {
        "id": "fjucG3lnpeT6"
      },
      "source": [
        "Observesen los argumentos`num_workers` and `pin_memory`? Intenta comprender que hacen consultando la documentación: https://pytorch.org/docs/stable/data.html .\n",
        "\n",
        "Vamos a visualizar un lote de datos en un formato de rejilla o través de la función  `make_grid` de `torchvision`. Empleamos el método `.permute` en el  tensor para mover los canales como la última dimensión, tal como espera `matplotlib`."
      ]
    },
    {
      "cell_type": "code",
      "metadata": {
        "id": "YshQj9srpeT6",
        "colab": {
          "base_uri": "https://localhost:8080/",
          "height": 483
        },
        "outputId": "85d29437-f6e5-420c-bf09-119ffeb22d80"
      },
      "source": [
        "for images, _ in train_loader:\n",
        "    print('images.shape:', images.shape)\n",
        "    plt.figure(figsize=(16,8))\n",
        "    plt.axis('off')\n",
        "    plt.imshow(make_grid(images, nrow=16).permute((1, 2, 0)))\n",
        "    break"
      ],
      "execution_count": 13,
      "outputs": [
        {
          "output_type": "stream",
          "name": "stdout",
          "text": [
            "images.shape: torch.Size([128, 1, 28, 28])\n"
          ]
        },
        {
          "output_type": "display_data",
          "data": {
            "image/png": "[encoded data removed]",
            "text/plain": [
              "<Figure size 1152x576 with 1 Axes>"
            ]
          },
          "metadata": {
            "needs_background": "light"
          }
        }
      ]
    },
    {
      "cell_type": "markdown",
      "metadata": {
        "id": "OKEjn2zvpeT6"
      },
      "source": [
        "## Capas ocultas, funciones de activación y No-linearidad\n",
        "\n",
        "Vamos a crear una red neuronal básica, con una _capa de entrada_, una _capa oculta_  y una _capa de salida_. La capa oculta incorporará una _función de activación_. \n",
        "Vamos a estudiar un ejemplo paso a paso de forma que podamos apreciar como el hecho de emplear capas ocultas y funciones de activación va apermitir capturar esas relaciones no lineales entre entradas y salidas\n",
        "\n",
        "Inicaialmente crearemos un lote de tensores de entrada. \"Extenderemos\" sus dimensiones de imagenes de `1x28x28` a vectores de longitud `784`, y los pasaremos a un objeto `nn.Linear`."
      ]
    },
    {
      "cell_type": "code",
      "metadata": {
        "id": "B5iPCdqEpeT6",
        "colab": {
          "base_uri": "https://localhost:8080/"
        },
        "outputId": "28444339-4025-49f1-df5d-4c81ecf4790b"
      },
      "source": [
        "for images, labels in train_loader:\n",
        "    print('images.shape:', images.shape)\n",
        "    inputs = images.reshape(-1, 784)\n",
        "    print('inputs.shape:', inputs.shape)\n",
        "    break"
      ],
      "execution_count": 14,
      "outputs": [
        {
          "output_type": "stream",
          "name": "stdout",
          "text": [
            "images.shape: torch.Size([128, 1, 28, 28])\n",
            "inputs.shape: torch.Size([128, 784])\n"
          ]
        }
      ]
    },
    {
      "cell_type": "markdown",
      "metadata": {
        "id": "mF__u2QfpeT6"
      },
      "source": [
        "Creamos el objeto `nn.Linear` que emplearemos como capa oculta (_hiden layer_). Adjudicamos un tamaño inicial de 32 neuronas a esta capa. Este número puede ser aumentado o disminuido y eso afectará a la capacidad de aprndizaje que puede desarrollar el modelo. "
      ]
    },
    {
      "cell_type": "code",
      "metadata": {
        "id": "6zXN1c4PpeT6"
      },
      "source": [
        "input_size = inputs.shape[-1]\n",
        "hidden_size = 32"
      ],
      "execution_count": 15,
      "outputs": []
    },
    {
      "cell_type": "code",
      "source": [
        "input_size"
      ],
      "metadata": {
        "id": "s6cACsGAMhdt",
        "colab": {
          "base_uri": "https://localhost:8080/"
        },
        "outputId": "22334bc5-ec38-41d9-bfd4-09c51411a69f"
      },
      "execution_count": 16,
      "outputs": [
        {
          "output_type": "execute_result",
          "data": {
            "text/plain": [
              "784"
            ]
          },
          "metadata": {},
          "execution_count": 16
        }
      ]
    },
    {
      "cell_type": "code",
      "metadata": {
        "id": "oOAh7CLZpeT7"
      },
      "source": [
        "layer1 = nn.Linear(input_size, hidden_size)"
      ],
      "execution_count": 17,
      "outputs": []
    },
    {
      "cell_type": "markdown",
      "metadata": {
        "id": "YzqPBDuypeT7"
      },
      "source": [
        "Las salidas intermedas las obtenemos pasando las entradas `inputs` a través de `layer1`."
      ]
    },
    {
      "cell_type": "code",
      "metadata": {
        "id": "zd0YcDIlcCKb",
        "colab": {
          "base_uri": "https://localhost:8080/"
        },
        "outputId": "2840643b-fc37-42e4-ef30-9caa9a668e0e"
      },
      "source": [
        "inputs.shape"
      ],
      "execution_count": 18,
      "outputs": [
        {
          "output_type": "execute_result",
          "data": {
            "text/plain": [
              "torch.Size([128, 784])"
            ]
          },
          "metadata": {},
          "execution_count": 18
        }
      ]
    },
    {
      "cell_type": "code",
      "metadata": {
        "id": "pD_FPxeipeT7",
        "colab": {
          "base_uri": "https://localhost:8080/"
        },
        "outputId": "79bd2145-3054-4759-f03a-6f58ef258460"
      },
      "source": [
        "layer1_outputs = layer1(inputs)\n",
        "print('layer1_outputs.shape:', layer1_outputs.shape)"
      ],
      "execution_count": 19,
      "outputs": [
        {
          "output_type": "stream",
          "name": "stdout",
          "text": [
            "layer1_outputs.shape: torch.Size([128, 32])\n"
          ]
        }
      ]
    },
    {
      "cell_type": "markdown",
      "metadata": {
        "id": "PK-eA2QTpeT7"
      },
      "source": [
        "Observamos ahora que los vectores de las imagenes de tamaño 784 se han transformado en unos vectores intermedios de tamaño 32, a través de la multiplicación de matrices que se ha realizado entre la matriz de `inputs` con la atriz traspuesta de los pesos de `layer1`, a la cual se le añaden los sesgos _bias_. \n",
        "\n",
        "Podemos verificar estas operaciones realizandolas de forma manual y comparando los resultados con `torch.allclose`."
      ]
    },
    {
      "cell_type": "code",
      "metadata": {
        "id": "0dEnp5VjpeT7",
        "colab": {
          "base_uri": "https://localhost:8080/"
        },
        "outputId": "1a519131-3daa-46df-f5f7-3dfddc88e25f"
      },
      "source": [
        "layer1_outputs_direct = inputs @ layer1.weight.t() + layer1.bias\n",
        "layer1_outputs_direct.shape"
      ],
      "execution_count": 20,
      "outputs": [
        {
          "output_type": "execute_result",
          "data": {
            "text/plain": [
              "torch.Size([128, 32])"
            ]
          },
          "metadata": {},
          "execution_count": 20
        }
      ]
    },
    {
      "cell_type": "code",
      "metadata": {
        "id": "qtNl1q-M2eCj",
        "colab": {
          "base_uri": "https://localhost:8080/"
        },
        "outputId": "a753e6d1-e22e-4a57-cdfb-dda8e826dde7"
      },
      "source": [
        "torch.allclose(layer1_outputs, layer1_outputs_direct, 1e-3)"
      ],
      "execution_count": 21,
      "outputs": [
        {
          "output_type": "execute_result",
          "data": {
            "text/plain": [
              "True"
            ]
          },
          "metadata": {},
          "execution_count": 21
        }
      ]
    },
    {
      "cell_type": "markdown",
      "metadata": {
        "id": "MW9IXDPtpeT7"
      },
      "source": [
        "Así pues, en este punto, `layer1_outputs` y las `inputs` tienen una relación lineal, i.e., cada elemento de `layer_outputs` es una suma ponderada de los valores de `inputs`. En concreto una suma de 728 valores ponderados por 728 coeficientes, para cada salida. Sin embargo, por más que entrenemos el modelo y reajustemos los pesos, `layer1` únicamente será capaz de capturar relaciones lineales entre `inputs` y `outputs`.\n",
        "\n",
        "<img src=\"https://i.imgur.com/inXsLuq.png\" width=\"360\">\n"
      ]
    },
    {
      "cell_type": "markdown",
      "metadata": {
        "id": "mPbk-p632eCj"
      },
      "source": [
        "Para mejorar esto, lo siguiente que vamos a hacer es emplear la función ReLU (_Rectified Linear Unit_) como función de activación para las salidas. Eta función tiene la fórmula `relu(x) = max(0,x)` i.e. simplemente reemplaza los valores negativos de un tensor dado por el valo 0. ReLU es una función no lineal, como podemos observar:\n",
        "\n",
        "<img src=\"https://i.imgur.com/yijV4xF.png\" width=\"420\">\n",
        "\n",
        "Emplearemos el método `F.relu` de `torch.nn.functional` para aplicar ReLU a los elementos de un tensor."
      ]
    },
    {
      "cell_type": "code",
      "metadata": {
        "id": "zHMpGUGRpeT7",
        "colab": {
          "base_uri": "https://localhost:8080/"
        },
        "outputId": "35bd6277-f183-4bcf-a5c6-2c303be86d3a"
      },
      "source": [
        "F.relu(torch.tensor([[1, -1, 0], \n",
        "                     [-0.1, .2, 3]]))"
      ],
      "execution_count": 22,
      "outputs": [
        {
          "output_type": "execute_result",
          "data": {
            "text/plain": [
              "tensor([[1.0000, 0.0000, 0.0000],\n",
              "        [0.0000, 0.2000, 3.0000]])"
            ]
          },
          "metadata": {},
          "execution_count": 22
        }
      ]
    },
    {
      "cell_type": "markdown",
      "metadata": {
        "id": "Y0QIFoEopeT7"
      },
      "source": [
        "Aplicamos la función RELU a la salida `layer1_outputs` y verificamos que los valores negativos han sido reemplazados por 0:"
      ]
    },
    {
      "cell_type": "code",
      "metadata": {
        "id": "QqBj3KsnpeT7",
        "colab": {
          "base_uri": "https://localhost:8080/"
        },
        "outputId": "1882aa01-8a05-4b3d-d697-213c6e077da9"
      },
      "source": [
        "relu_outputs = F.relu(layer1_outputs)\n",
        "print('min(layer1_outputs):', torch.min(layer1_outputs).item())\n",
        "print('min(relu_outputs):', torch.min(relu_outputs).item())"
      ],
      "execution_count": 23,
      "outputs": [
        {
          "output_type": "stream",
          "name": "stdout",
          "text": [
            "min(layer1_outputs): -0.6724685430526733\n",
            "min(relu_outputs): 0.0\n"
          ]
        }
      ]
    },
    {
      "cell_type": "markdown",
      "metadata": {
        "id": "g42i491NpeT7"
      },
      "source": [
        "Al aplicar ahora esta función de activación no lineal, `relu_outputs` e `inputs` ya no tienen relación lineal. Nos referimos a ella como _función de activación_ porque en definitiva lo que estamos haciendo es que ciertas salidas se activen (aquellas con valores superiores a cero) mientras que las otras quedan inactivadas. \n",
        "\n",
        "Vamos a crear ahora la capa de salida que convertirá los vectores de longitud `hidden_size` en `relu_outputs` dentro de vectores de longitud 10, que es la longitud necesaria para nuestro modelo (hay 10 posibles etiquetas de salida)"
      ]
    },
    {
      "cell_type": "code",
      "metadata": {
        "id": "k1qY-KYzpeT7"
      },
      "source": [
        "output_size = 10\n",
        "layer2 = nn.Linear(hidden_size, output_size)"
      ],
      "execution_count": 24,
      "outputs": []
    },
    {
      "cell_type": "code",
      "metadata": {
        "id": "D_DuKvL8peT7",
        "colab": {
          "base_uri": "https://localhost:8080/"
        },
        "outputId": "30471626-b8b5-4ff5-999a-4646da0739f1"
      },
      "source": [
        "layer2_outputs = layer2(relu_outputs)\n",
        "print(layer2_outputs.shape)"
      ],
      "execution_count": 25,
      "outputs": [
        {
          "output_type": "stream",
          "name": "stdout",
          "text": [
            "torch.Size([128, 10])\n"
          ]
        }
      ]
    },
    {
      "cell_type": "code",
      "metadata": {
        "id": "caxPuaS9dQhH",
        "colab": {
          "base_uri": "https://localhost:8080/"
        },
        "outputId": "8b6278a7-df53-4b73-e3bb-a9923b250853"
      },
      "source": [
        "inputs.shape"
      ],
      "execution_count": 26,
      "outputs": [
        {
          "output_type": "execute_result",
          "data": {
            "text/plain": [
              "torch.Size([128, 784])"
            ]
          },
          "metadata": {},
          "execution_count": 26
        }
      ]
    },
    {
      "cell_type": "markdown",
      "metadata": {
        "id": "AikFPlJppeT7"
      },
      "source": [
        "Como es de esperar, `layer2_outputs` contiene un lote de vectores de tamaño  10. Ahora emplearemos esa salida para calcular el error empleando  `F.cross_entropy` y ajustando los pesos de las capas `layer1` y `layer2` por descenso de gradiente."
      ]
    },
    {
      "cell_type": "code",
      "metadata": {
        "id": "CQ_ArLNApeT7",
        "colab": {
          "base_uri": "https://localhost:8080/"
        },
        "outputId": "226265c3-6f10-4dbb-c722-05023b562b9e"
      },
      "source": [
        "F.cross_entropy(layer2_outputs, labels)"
      ],
      "execution_count": 27,
      "outputs": [
        {
          "output_type": "execute_result",
          "data": {
            "text/plain": [
              "tensor(2.3113, grad_fn=<NllLossBackward0>)"
            ]
          },
          "metadata": {},
          "execution_count": 27
        }
      ]
    },
    {
      "cell_type": "markdown",
      "metadata": {
        "id": "UazxyCKHpeT7"
      },
      "source": [
        "Así pues, nuestro modelo transforma las `inputs` a `layer2_outputs` aplicando una transformación lineal (a través de `layer1`), seguida de una activación no lineal (empleando `F.relu`), seguida a su vez de otra transformación lineal (a través de `layer2`). \n",
        "Podemos verificar esto recalculando la salida empleando únicamente operaciones básicas entre matrices."
      ]
    },
    {
      "cell_type": "code",
      "metadata": {
        "id": "vNQ2nPijpeT7"
      },
      "source": [
        "# Versión expandida de layer2(F.relu(layer1(inputs)))\n",
        "outputs = (F.relu(inputs @ layer1.weight.t() + layer1.bias)) @ layer2.weight.t() + layer2.bias"
      ],
      "execution_count": null,
      "outputs": []
    },
    {
      "cell_type": "code",
      "metadata": {
        "id": "4BgaRib-peT7",
        "colab": {
          "base_uri": "https://localhost:8080/"
        },
        "outputId": "a7557b84-de67-40c2-e161-ff82a66c4b64"
      },
      "source": [
        "torch.allclose(outputs, layer2_outputs, 1e-3)"
      ],
      "execution_count": null,
      "outputs": [
        {
          "output_type": "execute_result",
          "data": {
            "text/plain": [
              "True"
            ]
          },
          "metadata": {},
          "execution_count": 26
        }
      ]
    },
    {
      "cell_type": "markdown",
      "metadata": {
        "id": "ZLOjL89WpeT7"
      },
      "source": [
        "Podemos constatar que ahora `outputs` e `inputs` no tienen una relación lineal, debido a la introducción de la función `F.relu`. A medida que entrenamos el modelo y ajustamos los pesos de las capas `layer1` y `layer2`, conseguimos ahora capturar relaciones no lineales entre las imagenes y sus etiquetas. En otras palabras, al introducir la no linealidad hace que el modelo se vuelva más potente y más verátil. Por otro lado `hidden_size`, el tamaño de la capa oculta, no depende de las dimensiones de la entrada ni de las salidas. Podemos incrementarlo o reducirlo, reflejarlo en la mayr o menor cantidad de parámetros que se austarán en el interior del modelo. También podemos insertar otras capas ocultas y aplicar la misma fucnión de activación despues de cada una. \n",
        "\n",
        "El modelo que hemos planetado es una red neuronal mínima, también llamado perceptrón multicapa (_Multilayer Perceptron, MLP_). El MLP puede constar de más capas ocultas. De hecho, una red neuronal profunda es simplemente una red neuronal con 2 o más capas ocultas. El [Teorema de Aproximación Universal](http://neuralnetworksanddeeplearning.com/chap4.html) especifica que una red neuronal suficientemente larga y profunda, puede obtener cualquier función, i.e. que puede llegar a aprender relaciones extremadamente complejas entre entradas y salidas. \n",
        "\n",
        "Puede ser dificil imaginar como el simple proceso de multiplicar valores de entrada por matrices inicializadas aleatoriamente, aplicar una función básica no lineal muy simple y reajustando pesos repetidamente puede llevar a obtener los resultados que se consiguen en las aplicaciones de las redes neuronales. No obstante, hemos de tener en cuenta que las redes neuronales profundas a menudo contienen **millones de parámetros** que se recalculan y la combinación de todos ellos permite capturar esas relaciones complejas que un cerebro humano no alcanza a captar. \n"
      ]
    },
    {
      "cell_type": "markdown",
      "metadata": {
        "id": "l8dOeJyfpeT8"
      },
      "source": [
        "## Modelo\n",
        "\n",
        "Ahora estamos listos para definir nuestro modelo. Vamos a crear una red neuronal con una capa oculta, teniendo en cuanta las siguientes consideraciones:  \n",
        "\n",
        "* En lugar de emplear un único objeto `nn.Linear` para transformar cada lote de entradas (intensidades de pixel) en salidas (probabilidades para cada clase), vamos a emplear dos objetos `nn.Linear`. Cada uno de ellos será una capa llamada _layer_ en la red.\n",
        "\n",
        "* La primera capa (conocida como capa oculta o _hidden layer_) transforma la matriz de entrada de dimensiones `batch_size x 784` a una matriz intermedia de de forma `batch_size x hidden_size`. El parámetro `hidden_size` se configurará manualmente e indica la cantidad de elementos (neuronas) que ponemos en dicha capa oculta.\n",
        "\n",
        "* A continuación aplicamos la _función de activación_ a las salidas intermedias. \n",
        "\n",
        "* El resultado de la función de activación, que mantiene las dimensiones `batch_size x hidden_size`, es pasado a la segunda capa o capa de salida. Esta capa transforma dicha entrada a una matriz de tamaño `batch_size x 10`. Ahora podemos emplear las salidas obtenidas para calcular el error con respecto a salida correcta y ajustar (actualizar) los pesos empleando descenso de gradiente en un proceso que se llama _backpropagation_.\n",
        "\n",
        "Visualmente, el modelo quedará como se muestra a continuación. Es lo que se conoce como **arquitectura del modelo** y en redes mayores puede llegar a ser ectremadamente compleja.\n",
        "\n",
        "<img src=\"https://i.imgur.com/eN7FrpF.png\" width=\"480\">\n",
        "\n",
        "\n",
        "Para definir el modelo, vamos a extender la clase base `nn.Module` de PyTorch."
      ]
    },
    {
      "cell_type": "code",
      "metadata": {
        "id": "_fKPW6tSpeT8"
      },
      "source": [
        "class MnistModel(nn.Module):\n",
        "    \"\"\"MLP con 1 capa oculta\"\"\"\n",
        "    def __init__(self, in_size, hidden_size, out_size):\n",
        "        super().__init__()\n",
        "        # hidden layer\n",
        "        self.linear1 = nn.Linear(in_size, hidden_size)\n",
        "        # output layer\n",
        "        self.linear2 = nn.Linear(hidden_size, out_size)\n",
        "        \n",
        "    def forward(self, xb):\n",
        "        # Extendemos los tensores de las imagenes\n",
        "        xb = xb.view(xb.size(0), -1)\n",
        "        # Salidas inteermedias\n",
        "        out = self.linear1(xb)\n",
        "        # Aplicamos función de activación\n",
        "        out = F.relu(out)\n",
        "        # Predicciones en la capa de salida\n",
        "        out = self.linear2(out)\n",
        "        return out\n",
        "       \n",
        "    def training_step(self, batch): #coger img de un lote, y etiquetas, cualcula las pérdidas, luego aplicamos el descenso\n",
        "        images, labels = batch \n",
        "        out = self(images)                  # Genera predicciones\n",
        "        loss = F.cross_entropy(out, labels) # Calcula loss\n",
        "        return loss\n",
        "    \n",
        "    def validation_step(self, batch): #lo hace en el batch de accuracy y calcula la precisión\n",
        "        images, labels = batch \n",
        "        out = self(images)                    # Genera predicciones\n",
        "        loss = F.cross_entropy(out, labels)   # Calcula loss\n",
        "        acc = accuracy(out, labels)           # Calcula accuracy\n",
        "        return {'val_loss': loss, 'val_acc': acc}\n",
        "\n",
        "    def validation_epoch_end(self, outputs): #coger valores de LOSS  de los lotes, los apila y luego calc media\n",
        "        batch_losses = [x['val_loss'] for x in outputs]\n",
        "        epoch_loss = torch.stack(batch_losses).mean()   # Combina losses\n",
        "        batch_accs = [x['val_acc'] for x in outputs]\n",
        "        epoch_acc = torch.stack(batch_accs).mean()      # Combina accuracies \n",
        "        return {'val_loss': epoch_loss.item(), 'val_acc': epoch_acc.item()}\n",
        "    \n",
        "    def epoch_end(self, epoch, result):\n",
        "        print(\"Epoch [{}], val_loss: {:.4f}, val_acc: {:.4f}\".format(epoch, result['val_loss'], result['val_acc']))"
      ],
      "execution_count": 31,
      "outputs": []
    },
    {
      "cell_type": "markdown",
      "metadata": {
        "id": "haxQhrX1AFdt"
      },
      "source": [
        "De igual forma que en el ejemplo de regresión, además de especificar las capas del modelo, definimos otros metodos que nos resultarán útiles para el entrenamiento y control del proceso. "
      ]
    },
    {
      "cell_type": "markdown",
      "metadata": {
        "id": "DBRZFQcz2eCt"
      },
      "source": [
        "Vamos a preparar tambien una función que nos calcule la precisión del modelo para un lote dado de entradas. Esta función se llama `accuracy` y la empleamos en el método `validation_step` definido anteriormente."
      ]
    },
    {
      "cell_type": "code",
      "metadata": {
        "id": "ooA0PwVipeT8"
      },
      "source": [
        "def accuracy(outputs, labels):\n",
        "    _, preds = torch.max(outputs, dim=1)\n",
        "    return torch.tensor(torch.sum(preds == labels).item() / len(preds))"
      ],
      "execution_count": 28,
      "outputs": []
    },
    {
      "cell_type": "markdown",
      "metadata": {
        "id": "4sSd532VpeT8"
      },
      "source": [
        "Creamos un modelo con una capa oculta de 32 elementos: "
      ]
    },
    {
      "cell_type": "code",
      "metadata": {
        "id": "beSRnIQTpeT8"
      },
      "source": [
        "input_size = 784\n",
        "input_size = inputs.shape[-1] #así coge el ultimo valor que es 784\n",
        "hidden_size = 32 # Esto puede configurarse (neuronas capa)\n",
        "num_classes = 10"
      ],
      "execution_count": 29,
      "outputs": []
    },
    {
      "cell_type": "code",
      "metadata": {
        "id": "IvSp6BFppeT8"
      },
      "source": [
        "model = MnistModel(input_size, hidden_size=hidden_size, out_size=num_classes)"
      ],
      "execution_count": 32,
      "outputs": []
    },
    {
      "cell_type": "markdown",
      "metadata": {
        "id": "EtWfv0N9peT8"
      },
      "source": [
        "Comprobamos los parámetros del modelo y que concuerden en dimensiones. Tenemos matrices de pesos y matrices de biases:"
      ]
    },
    {
      "cell_type": "code",
      "metadata": {
        "id": "psecOJfZpeT8",
        "colab": {
          "base_uri": "https://localhost:8080/"
        },
        "outputId": "257b6c31-9229-41e2-ac7d-68782195493b"
      },
      "source": [
        "for t in model.parameters():\n",
        "    print(t.shape)"
      ],
      "execution_count": 33,
      "outputs": [
        {
          "output_type": "stream",
          "name": "stdout",
          "text": [
            "torch.Size([32, 784])\n",
            "torch.Size([32])\n",
            "torch.Size([10, 32])\n",
            "torch.Size([10])\n"
          ]
        }
      ]
    },
    {
      "cell_type": "markdown",
      "metadata": {
        "id": "zeFGsljIpeT8"
      },
      "source": [
        "Probamos ahora a generar algunas salidas con el modelo y verificar que funciona. Tomamos el primer lote de 128 imagenes y las pasamos a través del modelo"
      ]
    },
    {
      "cell_type": "code",
      "metadata": {
        "id": "jajA6VFYpeT8",
        "colab": {
          "base_uri": "https://localhost:8080/"
        },
        "outputId": "119dcc4b-a3c7-4021-8a63-46b28d927e15"
      },
      "source": [
        "for images, labels in train_loader:\n",
        "    outputs = model(images)\n",
        "    loss = F.cross_entropy(outputs, labels)\n",
        "    print('Loss:', loss.item())\n",
        "    break\n",
        "\n",
        "print('outputs.shape : ', outputs.shape)\n",
        "print('Sample outputs :\\n', outputs[:2].data)"
      ],
      "execution_count": 34,
      "outputs": [
        {
          "output_type": "stream",
          "name": "stdout",
          "text": [
            "Loss: 2.300752639770508\n",
            "outputs.shape :  torch.Size([128, 10])\n",
            "Sample outputs :\n",
            " tensor([[-0.0205, -0.2011, -0.1273, -0.0259, -0.1779, -0.1400,  0.0719,  0.0712,\n",
            "          0.0065, -0.0972],\n",
            "        [-0.0502, -0.1554, -0.0301, -0.0720, -0.1190,  0.0148,  0.0739,  0.1261,\n",
            "         -0.0273, -0.0632]])\n"
          ]
        }
      ]
    },
    {
      "cell_type": "markdown",
      "metadata": {
        "id": "vmw6iiTXpeT8"
      },
      "source": [
        "## Usando una GPU\n",
        "\n",
        "Según se va incrementando el tamaño de los modelos y los conjuntos de datos que empleamos se hace necesario aprovechar GPUs para entrenarlos en unos tiempos razonables. Las GPUs contienen cientos de núcleos optimizados para la realización de operaciónes con matrices de números de coma flotante muy rápido, siendo por tanto ideales para el entrenamiento de redes neuronales. \n",
        "\n",
        "Actualmente además, es posible emplear GPUs de forma libre y gratuita en plataformas como [Google Colab](https://colab.research.google.com/) y [Kaggle](https://www.kaggle.com/kernels) o bien alquilar máquinas y tiempos GPUs en servicios como [Google Cloud Platform](https://cloud.google.com/gpu/), [Amazon Web Services](https://docs.aws.amazon.com/dlami/latest/devguide/gpu.html), entre otros (y cada vez más)\n",
        "\n",
        "Para comprobar si tenemos disponible GPU para el cálculo y sus controladores están instalados emplearemos la función `torch.cuda.is_available`."
      ]
    },
    {
      "cell_type": "code",
      "metadata": {
        "id": "gt2Ve_cFpeT8",
        "colab": {
          "base_uri": "https://localhost:8080/"
        },
        "outputId": "d8eeee7f-d95c-46bd-d9a4-c8abc981865a"
      },
      "source": [
        "torch.cuda.is_available()"
      ],
      "execution_count": 35,
      "outputs": [
        {
          "output_type": "execute_result",
          "data": {
            "text/plain": [
              "True"
            ]
          },
          "metadata": {},
          "execution_count": 35
        }
      ]
    },
    {
      "cell_type": "markdown",
      "metadata": {
        "id": "S2ffHXrnpeT8"
      },
      "source": [
        "Podemos definir una función que realiza esa comprobación y configura el dispositivo para aprovechar la GPU cuando sea posible y cuando no, emplea la CPU: "
      ]
    },
    {
      "cell_type": "code",
      "metadata": {
        "id": "oY8kxA4tpeT8"
      },
      "source": [
        "def get_default_device():\n",
        "    \"\"\"Pick GPU if available, else CPU\"\"\"\n",
        "    if torch.cuda.is_available():\n",
        "        return torch.device('cuda')\n",
        "    else:\n",
        "        return torch.device('cpu')"
      ],
      "execution_count": 36,
      "outputs": []
    },
    {
      "cell_type": "code",
      "metadata": {
        "id": "rgxTDAjtpeT8",
        "colab": {
          "base_uri": "https://localhost:8080/"
        },
        "outputId": "a81d040e-b393-4ad5-a779-12de5b1429f1"
      },
      "source": [
        "device = get_default_device()\n",
        "device"
      ],
      "execution_count": 37,
      "outputs": [
        {
          "output_type": "execute_result",
          "data": {
            "text/plain": [
              "device(type='cuda')"
            ]
          },
          "metadata": {},
          "execution_count": 37
        }
      ]
    },
    {
      "cell_type": "markdown",
      "metadata": {
        "id": "U58VabR4peT8"
      },
      "source": [
        "Ahora será necesario definir una función para mover los datos y el modelo al dispositivo (GPU o CPU) seleccionado."
      ]
    },
    {
      "cell_type": "code",
      "metadata": {
        "id": "qe39OMPmpeT8"
      },
      "source": [
        "def to_device(data, device):\n",
        "    \"\"\"Movemos los tensores al dispositivo\"\"\"\n",
        "    if isinstance(data, (list,tuple)):\n",
        "        return [to_device(x, device) for x in data]\n",
        "    return data.to(device, non_blocking=True)"
      ],
      "execution_count": 38,
      "outputs": []
    },
    {
      "cell_type": "code",
      "metadata": {
        "id": "bdouJFtwpeT8",
        "outputId": "8ecb518f-8dd4-434b-dd02-9ff4da435eaa",
        "colab": {
          "base_uri": "https://localhost:8080/"
        }
      },
      "source": [
        "for images, labels in train_loader:\n",
        "    print(images.shape)\n",
        "    images = to_device(images, device)\n",
        "    print(images.device)\n",
        "    break"
      ],
      "execution_count": 39,
      "outputs": [
        {
          "output_type": "stream",
          "name": "stdout",
          "text": [
            "torch.Size([128, 1, 28, 28])\n",
            "cuda:0\n"
          ]
        }
      ]
    },
    {
      "cell_type": "markdown",
      "metadata": {
        "id": "SJ_ZM0pYHsVM"
      },
      "source": [
        "A través de las dos funciones anteriores, podemos hacer de forma general que automáticamente se seleccione el dispositivo correspondiente (GPU si se puede y si no CPU) y los datos se cargen en él. "
      ]
    },
    {
      "cell_type": "markdown",
      "metadata": {
        "id": "WiKbIzujpeT9"
      },
      "source": [
        "Finalmente, vamos a definir una clase que vamos a llamar `DeviceDataLoader` para encapsular (_wrapp_) nuestros lotes e ir enviandolos adecuadamente al dicpositivos seleccionado. En realidad no necesitamos extender ninguna clase existente de Pytorch para generar nuestro _data loader_. Todo lo que debemos hacer es definir un iterador `__iter__` que vaya tomando lotes y los envíe al dispostivo y un método `__len__` que obtenga el número de lotes."
      ]
    },
    {
      "cell_type": "code",
      "metadata": {
        "id": "Mncx5AEcpeT9"
      },
      "source": [
        "class DeviceDataLoader():\n",
        "    \"\"\"Encapsula un dataloader para mover los datos al dispositivo device\"\"\"\n",
        "    def __init__(self, dl, device):\n",
        "        self.dl = dl\n",
        "        self.device = device\n",
        "        \n",
        "    def __iter__(self):\n",
        "        \"\"\"Itera lotes de datos y los va enviando al device\"\"\"\n",
        "        for b in self.dl: \n",
        "            yield to_device(b, self.device)\n",
        "\n",
        "    def __len__(self):\n",
        "        \"\"\"Numero de lotes\"\"\"\n",
        "        return len(self.dl)"
      ],
      "execution_count": 40,
      "outputs": []
    },
    {
      "cell_type": "markdown",
      "metadata": {
        "id": "RxwvU5eP4r76"
      },
      "source": [
        "La palabra clave `yield` Python se usa para crear una funcion generadora que se puede empleada en un bucle `for`, com ose ilustra en el ejemplo siguiente: "
      ]
    },
    {
      "cell_type": "code",
      "metadata": {
        "id": "7IeHPpx74slh",
        "outputId": "d0adc043-7fd4-47c0-fbb2-11a57593fadb",
        "colab": {
          "base_uri": "https://localhost:8080/"
        }
      },
      "source": [
        "def some_numbers():\n",
        "    yield 10\n",
        "    yield 20\n",
        "    yield 30\n",
        "\n",
        "for value in some_numbers():\n",
        "    print(value)"
      ],
      "execution_count": 41,
      "outputs": [
        {
          "output_type": "stream",
          "name": "stdout",
          "text": [
            "10\n",
            "20\n",
            "30\n"
          ]
        }
      ]
    },
    {
      "cell_type": "markdown",
      "metadata": {
        "id": "9AM28h0ipeT9"
      },
      "source": [
        "Empleamos `DeviceDataLoader` para encapsular el envío de los datos por lotes al dispositivo que corresponda."
      ]
    },
    {
      "cell_type": "code",
      "metadata": {
        "id": "fwZdTIxgpeT9"
      },
      "source": [
        "train_loader = DeviceDataLoader(train_loader, device)\n",
        "val_loader = DeviceDataLoader(val_loader, device)"
      ],
      "execution_count": 42,
      "outputs": []
    },
    {
      "cell_type": "markdown",
      "metadata": {
        "id": "Go0zbQTypeT9"
      },
      "source": [
        "Los tensores que se mueven a una GPU tienen una propiedad llamada `device` que es la palabra `cuda`. Podemos verificar esto revisando uno de los lotes con `val_loader`:"
      ]
    },
    {
      "cell_type": "code",
      "metadata": {
        "id": "ZdOfMdmxpeT9",
        "outputId": "6fa44d70-c1f8-4b02-8213-6d26e32bddfb",
        "colab": {
          "base_uri": "https://localhost:8080/"
        }
      },
      "source": [
        "for xb, yb in val_loader:\n",
        "    print('xb.device:', xb.device)\n",
        "    print('yb:', yb)\n",
        "    break"
      ],
      "execution_count": 43,
      "outputs": [
        {
          "output_type": "stream",
          "name": "stdout",
          "text": [
            "xb.device: cuda:0\n",
            "yb: tensor([4, 1, 1, 8, 7, 2, 9, 1, 8, 1, 0, 1, 5, 8, 8, 1, 5, 2, 9, 0, 4, 2, 4, 2,\n",
            "        4, 3, 8, 5, 2, 6, 5, 7, 1, 4, 7, 2, 3, 1, 2, 8, 0, 0, 6, 7, 5, 5, 0, 0,\n",
            "        3, 3, 1, 3, 4, 6, 8, 7, 6, 4, 9, 7, 3, 8, 4, 5, 7, 0, 7, 0, 3, 2, 5, 2,\n",
            "        0, 3, 2, 0, 6, 3, 0, 1, 6, 8, 7, 9, 1, 3, 6, 8, 4, 7, 9, 2, 7, 0, 2, 8,\n",
            "        6, 9, 6, 6, 7, 3, 2, 2, 5, 1, 2, 0, 3, 8, 3, 7, 0, 8, 5, 1, 0, 7, 1, 8,\n",
            "        2, 9, 8, 1, 4, 3, 2, 9, 2, 0, 8, 7, 7, 5, 1, 7, 4, 2, 7, 4, 5, 1, 4, 0,\n",
            "        9, 3, 4, 5, 4, 8, 2, 2, 8, 4, 5, 9, 9, 7, 9, 4, 4, 9, 2, 0, 6, 9, 1, 7,\n",
            "        4, 6, 0, 6, 9, 6, 6, 6, 4, 0, 6, 5, 6, 3, 3, 1, 3, 7, 0, 7, 9, 7, 6, 1,\n",
            "        8, 5, 8, 9, 2, 6, 4, 7, 1, 2, 3, 8, 2, 3, 2, 6, 1, 2, 1, 2, 5, 6, 4, 5,\n",
            "        5, 0, 1, 1, 2, 7, 1, 0, 3, 1, 9, 2, 3, 4, 8, 3, 8, 7, 9, 1, 3, 4, 9, 9,\n",
            "        3, 6, 0, 2, 2, 4, 2, 2, 6, 2, 0, 4, 4, 0, 1, 8], device='cuda:0')\n"
          ]
        }
      ]
    },
    {
      "cell_type": "markdown",
      "metadata": {
        "id": "sfPhGrIRpeT9"
      },
      "source": [
        "## Entrenamiento\n",
        "\n",
        "Definiremos nuestras funciones `fit` and `evaluate` para entrenar el modelo, de forma similar al notebook anterior. \n",
        "Recordemos que estas funciones están planteadas para que sean independientes del modelo planteado (definido con la clase `MnistModel`), realizando los pasos generales para el ajuste del modelo, i.e., para cada lote realizamos entrenamiento, cálculo de error, calculo de gradientes, actualización de pesos, reset de gradientes, evaluación en validación y guardado de resultados en una lista (`history[]`)"
      ]
    },
    {
      "cell_type": "code",
      "metadata": {
        "id": "JRw6Zf0wpeT9"
      },
      "source": [
        "def evaluate(model, val_loader):\n",
        "    \"\"\"Evalua el rendimento del modelo en el  set de validacion\"\"\"\n",
        "    outputs = [model.validation_step(batch) for batch in val_loader]\n",
        "    return model.validation_epoch_end(outputs)\n",
        "\n",
        "def fit(epochs, lr, model, train_loader, val_loader, opt_func=torch.optim.SGD):\n",
        "    \"\"\"Entrena el modelo usando descenso de gradiente\"\"\"\n",
        "    history = []\n",
        "    optimizer = opt_func(model.parameters(), lr)\n",
        "    for epoch in range(epochs):\n",
        "        # Training Phase \n",
        "        for batch in train_loader:\n",
        "            loss = model.training_step(batch)\n",
        "            loss.backward()\n",
        "            optimizer.step()\n",
        "            optimizer.zero_grad()\n",
        "        # Validation phase\n",
        "        result = evaluate(model, val_loader)\n",
        "        model.epoch_end(epoch, result)\n",
        "        history.append(result)\n",
        "    return history"
      ],
      "execution_count": 44,
      "outputs": []
    },
    {
      "cell_type": "markdown",
      "metadata": {
        "id": "JuWv6GKZpeT9"
      },
      "source": [
        "Antes de entrenar hemos de asegurarnos que tanto los datos como los parámetros del modelo (pesos y biases) están en el **mismo dispositivo** (CPU o GPU). Para ello podemos aprovechar la función deinida anteriormente `to_device`para mover los parámetros del modelo al dispositivo correcto:"
      ]
    },
    {
      "cell_type": "code",
      "metadata": {
        "id": "u1CyEQsJpeT9",
        "outputId": "95786b43-3038-4526-e250-32eaf312547f",
        "colab": {
          "base_uri": "https://localhost:8080/"
        }
      },
      "source": [
        "# Modelo (a GPU)\n",
        "model = MnistModel(input_size, hidden_size=hidden_size, out_size=num_classes)\n",
        "to_device(model, device) #tras instanciar lo llevo a la gpu"
      ],
      "execution_count": 47,
      "outputs": [
        {
          "output_type": "execute_result",
          "data": {
            "text/plain": [
              "MnistModel(\n",
              "  (linear1): Linear(in_features=784, out_features=32, bias=True)\n",
              "  (linear2): Linear(in_features=32, out_features=10, bias=True)\n",
              ")"
            ]
          },
          "metadata": {},
          "execution_count": 47
        }
      ]
    },
    {
      "cell_type": "markdown",
      "metadata": {
        "id": "9N_aE2GRpeT9"
      },
      "source": [
        "Veamos como lo hace el modelo con el conjunto de validacion"
      ]
    },
    {
      "cell_type": "code",
      "metadata": {
        "id": "bF_wEBAIpeT9",
        "outputId": "dbfeafcc-1e60-4460-b0d6-59eb10095bfc",
        "colab": {
          "base_uri": "https://localhost:8080/"
        }
      },
      "source": [
        "history = [evaluate(model, val_loader)]\n",
        "history"
      ],
      "execution_count": 48,
      "outputs": [
        {
          "output_type": "execute_result",
          "data": {
            "text/plain": [
              "[{'val_acc': 0.1591796875, 'val_loss': 2.3069934844970703}]"
            ]
          },
          "metadata": {},
          "execution_count": 48
        }
      ]
    },
    {
      "cell_type": "markdown",
      "metadata": {
        "id": "BU0tYFcPpeT9"
      },
      "source": [
        "La precisión inicial está en torno al 10%, lo cual como ya sabemos es lo esperable dado que tenemos 10 posibles salidas y hemos inicializado aleatoriamente los pesos y biases.\n",
        "\n",
        "Continuamos entrenando 5 ciclos _epochs_ más para ver el avance. Dado queestamos en una fase inicial, vamos a usar una tasa de aprendizaje relativamente alto de 0.5."
      ]
    },
    {
      "cell_type": "code",
      "metadata": {
        "id": "DE5_oVckpeT9",
        "outputId": "acbd2987-28b5-4e1c-f1f2-b941e94b3fbd",
        "colab": {
          "base_uri": "https://localhost:8080/"
        }
      },
      "source": [
        "history += fit(5, 0.5, model, train_loader, val_loader)"
      ],
      "execution_count": 49,
      "outputs": [
        {
          "output_type": "stream",
          "name": "stdout",
          "text": [
            "Epoch [0], val_loss: 0.3123, val_acc: 0.8998\n",
            "Epoch [1], val_loss: 0.1759, val_acc: 0.9488\n",
            "Epoch [2], val_loss: 0.1521, val_acc: 0.9553\n",
            "Epoch [3], val_loss: 0.1432, val_acc: 0.9597\n",
            "Epoch [4], val_loss: 0.1316, val_acc: 0.9593\n"
          ]
        }
      ]
    },
    {
      "cell_type": "markdown",
      "metadata": {
        "id": "_by-a2g9peT9"
      },
      "source": [
        "Realmente hemos mejorado mucho! 96% es un muy buen resultado. Podemos probar a seguir entrenando, esta vez con un ratio de aprendizaje menor para intentar afinar en nuestro ajuste y mejorar los resultados."
      ]
    },
    {
      "cell_type": "code",
      "metadata": {
        "id": "AjA2dtlrpeT9",
        "outputId": "ce861f78-8441-418e-8c5f-8ed4dd69af0c",
        "colab": {
          "base_uri": "https://localhost:8080/"
        }
      },
      "source": [
        "history += fit(5, 0.1, model, train_loader, val_loader)"
      ],
      "execution_count": 50,
      "outputs": [
        {
          "output_type": "stream",
          "name": "stdout",
          "text": [
            "Epoch [0], val_loss: 0.1197, val_acc: 0.9660\n",
            "Epoch [1], val_loss: 0.1215, val_acc: 0.9651\n",
            "Epoch [2], val_loss: 0.1217, val_acc: 0.9640\n",
            "Epoch [3], val_loss: 0.1194, val_acc: 0.9646\n",
            "Epoch [4], val_loss: 0.1225, val_acc: 0.9635\n"
          ]
        }
      ]
    },
    {
      "cell_type": "markdown",
      "metadata": {
        "id": "W7LAqJCMpeT9"
      },
      "source": [
        "Vamos a graficar los resultados y de esa froma estudiar como el modelo va mejorando con respecto a los ciclos que entrena."
      ]
    },
    {
      "cell_type": "code",
      "metadata": {
        "id": "I3g-DRifpeT9",
        "outputId": "4bb6d429-b5b3-4dbb-b5f9-65a89bc15d31",
        "colab": {
          "base_uri": "https://localhost:8080/",
          "height": 295
        }
      },
      "source": [
        "losses = [x['val_loss'] for x in history]\n",
        "plt.plot(losses, '-x')\n",
        "plt.xlabel('epoch')\n",
        "plt.ylabel('loss')\n",
        "plt.title('Loss vs. No. of epochs');"
      ],
      "execution_count": 51,
      "outputs": [
        {
          "output_type": "display_data",
          "data": {
            "image/png": "[encoded data removed]",
            "text/plain": [
              "<Figure size 432x288 with 1 Axes>"
            ]
          },
          "metadata": {
            "needs_background": "light"
          }
        }
      ]
    },
    {
      "cell_type": "code",
      "metadata": {
        "id": "28kJvNmFpeT9",
        "scrolled": true,
        "outputId": "f43841f3-5218-48fe-ac63-6684e03850ed",
        "colab": {
          "base_uri": "https://localhost:8080/",
          "height": 295
        }
      },
      "source": [
        "accuracies = [x['val_acc'] for x in history]\n",
        "plt.plot(accuracies, '-x')\n",
        "plt.xlabel('epoch')\n",
        "plt.ylabel('accuracy')\n",
        "plt.title('Accuracy vs. No. of epochs');"
      ],
      "execution_count": 52,
      "outputs": [
        {
          "output_type": "display_data",
          "data": {
            "image/png": "[encoded data removed]",
            "text/plain": [
              "<Figure size 432x288 with 1 Axes>"
            ]
          },
          "metadata": {
            "needs_background": "light"
          }
        }
      ]
    },
    {
      "cell_type": "markdown",
      "metadata": {
        "id": "zBmLGRuLpeT9"
      },
      "source": [
        "Observamos que el modelo ha conseguido superar (con los mismos datos) los resultados obtenidos con el modelo de regresion logística (que estaban en torna al 86%) El modelo con un MLP simple (una sola capa oculta) rápidamente ha obtenido cerca de un 97% lo cual es muy buen resultado, aunque parece que ya no mejora mucho más. Para conseguir mejorar más, tendríamos que plantear modelos más potentes incrementando el número de elementos en la capa oculta o directamente el número de capas. "
      ]
    },
    {
      "cell_type": "markdown",
      "metadata": {
        "id": "Lf_6nWkCBGB5"
      },
      "source": [
        "## Test con imágenes individuales\n",
        "\n",
        "Además de llevar un seguimiento de lo precisión del modelo, también resulta interesante explorar los resultados del modelo con ejemplos concretos de imágenes. Vamos a probar el modelo con algunas del conjunto de 10000 imágenes de test. \n",
        "\n",
        "Empezamos transformando los datos a tensores con `ToTensor`"
      ]
    },
    {
      "cell_type": "code",
      "metadata": {
        "id": "ZJ6E4f-iBBTm"
      },
      "source": [
        "# Define test dataset\n",
        "test_dataset = MNIST(root='data/', \n",
        "                     train=False,\n",
        "                     transform=ToTensor())"
      ],
      "execution_count": 53,
      "outputs": []
    },
    {
      "cell_type": "markdown",
      "metadata": {
        "id": "uGKvjeJXBTiN"
      },
      "source": [
        "Definiremos una función `predict_image` que nos facilitará la predicción devolviendo la etiqueta obtenida para un tensor de imagen individual entrado."
      ]
    },
    {
      "cell_type": "code",
      "metadata": {
        "id": "ZhxrAx6LBTNG"
      },
      "source": [
        "def predict_image(img, model):\n",
        "    xb = to_device(img.unsqueeze(0), device)\n",
        "    yb = model(xb)\n",
        "    _, preds  = torch.max(yb, dim=1)\n",
        "    return preds[0].item()"
      ],
      "execution_count": 54,
      "outputs": []
    },
    {
      "cell_type": "markdown",
      "metadata": {
        "id": "N4kUaLBqBZLd"
      },
      "source": [
        "Probamos con varias imágenes: "
      ]
    },
    {
      "cell_type": "code",
      "metadata": {
        "id": "JsNnl42DBXog",
        "outputId": "1360b189-9c67-4b11-fedb-1caed0b59402",
        "colab": {
          "base_uri": "https://localhost:8080/",
          "height": 282
        }
      },
      "source": [
        "img, label = test_dataset[0]\n",
        "plt.imshow(img[0], cmap='gray')\n",
        "print('Label:', label, ', Predicted:', predict_image(img, model))"
      ],
      "execution_count": 55,
      "outputs": [
        {
          "output_type": "stream",
          "name": "stdout",
          "text": [
            "Label: 7 , Predicted: 7\n"
          ]
        },
        {
          "output_type": "display_data",
          "data": {
            "image/png": "[encoded data removed]",
            "text/plain": [
              "<Figure size 432x288 with 1 Axes>"
            ]
          },
          "metadata": {
            "needs_background": "light"
          }
        }
      ]
    },
    {
      "cell_type": "code",
      "metadata": {
        "id": "lu0lN0xnBiD6",
        "outputId": "e534a7ca-98a8-49af-f0dd-24d14661a25e",
        "colab": {
          "base_uri": "https://localhost:8080/",
          "height": 282
        }
      },
      "source": [
        "img, label = test_dataset[4500]\n",
        "plt.imshow(img[0], cmap='gray')\n",
        "print('Label:', label, ', Predicted:', predict_image(img, model))"
      ],
      "execution_count": 56,
      "outputs": [
        {
          "output_type": "stream",
          "name": "stdout",
          "text": [
            "Label: 9 , Predicted: 9\n"
          ]
        },
        {
          "output_type": "display_data",
          "data": {
            "image/png": "[encoded data removed]",
            "text/plain": [
              "<Figure size 432x288 with 1 Axes>"
            ]
          },
          "metadata": {
            "needs_background": "light"
          }
        }
      ]
    },
    {
      "cell_type": "code",
      "metadata": {
        "id": "ZpzxiYHjBliK",
        "outputId": "8463ecbd-c5a1-4108-d4c8-6b4947aa9002",
        "colab": {
          "base_uri": "https://localhost:8080/",
          "height": 282
        }
      },
      "source": [
        "img, label = test_dataset[193]\n",
        "plt.imshow(img[0], cmap='gray')\n",
        "print('Label:', label, ', Predicted:', predict_image(img, model))"
      ],
      "execution_count": 57,
      "outputs": [
        {
          "output_type": "stream",
          "name": "stdout",
          "text": [
            "Label: 9 , Predicted: 9\n"
          ]
        },
        {
          "output_type": "display_data",
          "data": {
            "image/png": "[encoded data removed]",
            "text/plain": [
              "<Figure size 432x288 with 1 Axes>"
            ]
          },
          "metadata": {
            "needs_background": "light"
          }
        }
      ]
    },
    {
      "cell_type": "code",
      "metadata": {
        "id": "MNgqjarSbOL9",
        "outputId": "740a31f8-c565-4d32-8642-4bfa5dad61a3",
        "colab": {
          "base_uri": "https://localhost:8080/",
          "height": 282
        }
      },
      "source": [
        "img, label = test_dataset[1839]\n",
        "plt.imshow(img[0], cmap='gray')\n",
        "print('Label:', label, ', Predicted:', predict_image(img, model))"
      ],
      "execution_count": 58,
      "outputs": [
        {
          "output_type": "stream",
          "name": "stdout",
          "text": [
            "Label: 2 , Predicted: 2\n"
          ]
        },
        {
          "output_type": "display_data",
          "data": {
            "image/png": "[encoded data removed]",
            "text/plain": [
              "<Figure size 432x288 with 1 Axes>"
            ]
          },
          "metadata": {
            "needs_background": "light"
          }
        }
      ]
    },
    {
      "cell_type": "markdown",
      "metadata": {
        "id": "RqG62k05BqpC"
      },
      "source": [
        "Como ya sabemos, es interesante identificar donde se comporta peor nuestro modelo porque es la forma en que podemos afrontar las diferentes estrategias de mejora, bien recogiendo más datos, ajustando hiperpaámetros, arquitectura de la red, etc.\n",
        "\n",
        "Com opaso final, vamos a evaluar la pérdida y precisión total para el modelo sobre el conjunto de test."
      ]
    },
    {
      "cell_type": "code",
      "metadata": {
        "id": "rvNoyn0RBtBm",
        "outputId": "fcaeaa18-d739-4a25-ae58-60ab2c7ac5f0",
        "colab": {
          "base_uri": "https://localhost:8080/"
        }
      },
      "source": [
        "test_loader = DeviceDataLoader(DataLoader(test_dataset, batch_size=256), device)\n",
        "result = evaluate(model, test_loader)\n",
        "result"
      ],
      "execution_count": 59,
      "outputs": [
        {
          "output_type": "execute_result",
          "data": {
            "text/plain": [
              "{'val_acc': 0.96826171875, 'val_loss': 0.10168870538473129}"
            ]
          },
          "metadata": {},
          "execution_count": 59
        }
      ]
    },
    {
      "cell_type": "markdown",
      "metadata": {
        "id": "CZz2M4WPBzlT"
      },
      "source": [
        "El resultado obtenido debe ser parecido al de entrenamiento. Si no es así, es posible que el conjunto de validación empleado en el entrenamiento no tenga similar distribucion al de test, que a menudo proviene de datos reales. También se pueden dar problemas de sobreajuste. "
      ]
    },
    {
      "cell_type": "markdown",
      "metadata": {
        "id": "Q-syIZYUB1Ls"
      },
      "source": [
        "## Salvar el modelo \n",
        "Vamos a salvar el modelo a disco de forma que podamos recuperar los valores de las matrices de pesos y biases que han sido ajustados. De esta forma un nuevo modelo no tiene porqué empezar desde cero. También nos sirve para continuar el entrenamiento ."
      ]
    },
    {
      "cell_type": "code",
      "metadata": {
        "id": "BT6v860WByIJ"
      },
      "source": [
        "torch.save(model.state_dict(), 'mlp-basico.pth')"
      ],
      "execution_count": 60,
      "outputs": []
    },
    {
      "cell_type": "markdown",
      "metadata": {
        "id": "n2QOf-HEltUP"
      },
      "source": [
        "## Fin del Notebook"
      ]
    },
    {
      "cell_type": "markdown",
      "metadata": {
        "id": "BZDr1zYmBkRV"
      },
      "source": [
        "Referencias y modelos empleados para el Notebook: \n",
        "\n",
        "*   Documentación de [Pytorch](https://pytorch.org/docs/stable/index.html) \n",
        "*   [PyTorch Tutorial for Deep Learning Researchers](https://github.com/yunjey/pytorch-tutorial) by Yunjey Choi\n",
        "*   [FastAI](https://www.fast.ai/) development notebooks by Jeremy Howard.\n",
        "*   Documentación y cursos en [Pierian Data](https://www.pieriandata.com/)\n",
        "*   Tutoriales y notebooks del curso \"Deep Learning with Pytorch: Zero to GANs\" de [Aakash N S](https://jovian.ai/aakashns)\n",
        "* [A visual proof that neural networks can compute any function](http://neuralnetworksanddeeplearning.com/chap4.html), también conocido como Teorema de Aproximación Universal\n",
        "* [But what *is* a neural network?](https://www.youtube.com/watch?v=aircAruvnKk) - Una introducción muy intuitiva a lo que son las redes neuronales y lo que implican las capas ocultas."
      ]
    },
    {
      "cell_type": "code",
      "source": [
        ""
      ],
      "metadata": {
        "id": "yFzQ44LP7jFs"
      },
      "execution_count": 60,
      "outputs": []
    }
  ]
}
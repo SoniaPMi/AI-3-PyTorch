{
  "nbformat": 4,
  "nbformat_minor": 0,
  "metadata": {
    "colab": {
      "name": "CNN_tests_PyTorch.ipynb",
      "provenance": [],
      "authorship_tag": "ABX9TyPPBfHKvTBhmp2SaTf6yoeP",
      "include_colab_link": true
    },
    "kernelspec": {
      "name": "python3",
      "display_name": "Python 3"
    },
    "language_info": {
      "name": "python"
    }
  },
  "cells": [
    {
      "cell_type": "markdown",
      "metadata": {
        "id": "view-in-github",
        "colab_type": "text"
      },
      "source": [
        "<a href=\"https://colab.research.google.com/github/SoniaPMi/AI-3-PyTorch/blob/main/CNN_tests_PyTorch.ipynb\" target=\"_parent\"><img src=\"https://colab.research.google.com/assets/colab-badge.svg\" alt=\"Open In Colab\"/></a>"
      ]
    },
    {
      "cell_type": "code",
      "execution_count": 2,
      "metadata": {
        "id": "WoiD_LrUTtL1"
      },
      "outputs": [],
      "source": [
        "import torch\n",
        "import torch.nn as nn\n",
        "import numpy as np\n",
        "import torch.optim as optim\n",
        "from torch.utils.data import Dataset, DataLoader"
      ]
    },
    {
      "cell_type": "markdown",
      "source": [
        "# Convolución 1D"
      ],
      "metadata": {
        "id": "ghyE5ak8YPD0"
      }
    },
    {
      "cell_type": "code",
      "source": [
        "input_id = torch.tensor([1, 2, 3, 4, 5, 6, 7, 8, 9, 10], dtype=torch.float)"
      ],
      "metadata": {
        "id": "NroEFhxWTuP6"
      },
      "execution_count": 11,
      "outputs": []
    },
    {
      "cell_type": "code",
      "source": [
        "input_1d = input_id.unsqueeze(0).unsqueeze(0)\n",
        "input_1d.shape"
      ],
      "metadata": {
        "colab": {
          "base_uri": "https://localhost:8080/"
        },
        "id": "w-6GKMNkUPOo",
        "outputId": "1a7ff001-7ae8-4135-d703-c7d04e9101e5"
      },
      "execution_count": 12,
      "outputs": [
        {
          "output_type": "execute_result",
          "data": {
            "text/plain": [
              "torch.Size([1, 1, 10])"
            ]
          },
          "metadata": {},
          "execution_count": 12
        }
      ]
    },
    {
      "cell_type": "code",
      "source": [
        "cnn1d_1 = nn.Conv1d(in_channels=1, out_channels=1, kernel_size=3, stride=1)\n",
        "\n",
        "print(\"cnn1d_1: \\n\")\n",
        "print(cnn1d_1(input_1d).shape, \"\\n\")\n",
        "print(cnn1d_1(input_1d))"
      ],
      "metadata": {
        "colab": {
          "base_uri": "https://localhost:8080/"
        },
        "id": "x_ffPq_qUgGQ",
        "outputId": "f96083d7-92cd-4660-ee56-f3686e86dac7"
      },
      "execution_count": 14,
      "outputs": [
        {
          "output_type": "stream",
          "name": "stdout",
          "text": [
            "cnn1d_1: \n",
            "\n",
            "torch.Size([1, 1, 8]) \n",
            "\n",
            "tensor([[[1.8322, 2.1240, 2.4159, 2.7077, 2.9996, 3.2914, 3.5833, 3.8751]]],\n",
            "       grad_fn=<SqueezeBackward1>)\n"
          ]
        }
      ]
    },
    {
      "cell_type": "code",
      "source": [
        "cnn2d_1 = nn.Conv1d(in_channels=1, out_channels=1, kernel_size=3, stride=2)\n",
        "#stride a 2, la mitad de resultados\n",
        "print(\"cnn2d_1: \\n\")\n",
        "print(cnn2d_1(input_1d).shape, \"\\n\")\n",
        "print(cnn2d_1(input_1d))"
      ],
      "metadata": {
        "colab": {
          "base_uri": "https://localhost:8080/"
        },
        "id": "LfLVAcunWng2",
        "outputId": "fd7fe72b-3c53-4e54-a7e4-6a6c933f1e39"
      },
      "execution_count": 16,
      "outputs": [
        {
          "output_type": "stream",
          "name": "stdout",
          "text": [
            "cnn2d_1: \n",
            "\n",
            "torch.Size([1, 1, 4]) \n",
            "\n",
            "tensor([[[-0.5310, -1.4648, -2.3985, -3.3323]]], grad_fn=<SqueezeBackward1>)\n"
          ]
        }
      ]
    },
    {
      "cell_type": "code",
      "source": [
        "cnn2d_1 = nn.Conv1d(in_channels=1, out_channels=1, kernel_size=2, stride=1)\n",
        "#stride a 2, la mitad de resultados\n",
        "print(\"cnn2d_1: \\n\")\n",
        "print(cnn2d_1(input_1d).shape, \"\\n\")\n",
        "print(cnn2d_1(input_1d))"
      ],
      "metadata": {
        "colab": {
          "base_uri": "https://localhost:8080/"
        },
        "id": "y3KufposXFCR",
        "outputId": "960074fb-5ae6-4c0e-84be-d16d63e8f112"
      },
      "execution_count": 17,
      "outputs": [
        {
          "output_type": "stream",
          "name": "stdout",
          "text": [
            "cnn2d_1: \n",
            "\n",
            "torch.Size([1, 1, 9]) \n",
            "\n",
            "tensor([[[ 2.6269,  3.9496,  5.2724,  6.5951,  7.9178,  9.2406, 10.5633,\n",
            "          11.8861, 13.2088]]], grad_fn=<SqueezeBackward1>)\n"
          ]
        }
      ]
    },
    {
      "cell_type": "code",
      "source": [
        "cnn2d_1 = nn.Conv1d(in_channels=1, out_channels=5, kernel_size=3, stride=1)\n",
        "#stride a 2, la mitad de resultados\n",
        "print(\"cnn2d_1: \\n\")\n",
        "print(cnn2d_1(input_1d).shape, \"\\n\")\n",
        "print(cnn2d_1(input_1d))"
      ],
      "metadata": {
        "colab": {
          "base_uri": "https://localhost:8080/"
        },
        "id": "3QZs_josXoro",
        "outputId": "85c10930-518f-43d1-bf3d-860c59c7d1de"
      },
      "execution_count": 18,
      "outputs": [
        {
          "output_type": "stream",
          "name": "stdout",
          "text": [
            "cnn2d_1: \n",
            "\n",
            "torch.Size([1, 5, 8]) \n",
            "\n",
            "tensor([[[ -0.8817,  -0.7522,  -0.6228,  -0.4933,  -0.3638,  -0.2344,  -0.1049,\n",
            "            0.0246],\n",
            "         [ -0.1606,  -0.0189,   0.1229,   0.2646,   0.4063,   0.5481,   0.6898,\n",
            "            0.8316],\n",
            "         [ -1.2346,  -1.6351,  -2.0357,  -2.4362,  -2.8368,  -3.2373,  -3.6379,\n",
            "           -4.0385],\n",
            "         [ -0.4953,  -0.4664,  -0.4375,  -0.4087,  -0.3798,  -0.3509,  -0.3221,\n",
            "           -0.2932],\n",
            "         [ -2.5511,  -3.7643,  -4.9774,  -6.1905,  -7.4036,  -8.6167,  -9.8299,\n",
            "          -11.0430]]], grad_fn=<SqueezeBackward1>)\n"
          ]
        }
      ]
    },
    {
      "cell_type": "code",
      "source": [
        "cnn2d_1 = nn.Conv1d(in_channels=1, out_channels=1, kernel_size=3, stride=1)\n",
        "#stride a 2, la mitad de resultados\n",
        "print(\"cnn2d_1: \\n\")\n",
        "print(cnn2d_1(input_1d).shape, \"\\n\")\n",
        "print(cnn2d_1(input_1d))"
      ],
      "metadata": {
        "id": "3QCWhJtBYAvz"
      },
      "execution_count": null,
      "outputs": []
    },
    {
      "cell_type": "markdown",
      "source": [
        "#Convolución 2D"
      ],
      "metadata": {
        "id": "m-cW9PjUYR7i"
      }
    },
    {
      "cell_type": "code",
      "source": [
        "input_2d = torch.tensor([[1,2,3,4,5], [6,7,8,9,10]], dtype = torch.float)"
      ],
      "metadata": {
        "id": "eiDOGhWfYTrf"
      },
      "execution_count": 19,
      "outputs": []
    },
    {
      "cell_type": "code",
      "source": [
        "input_2d = input_2d.unsqueeze(0)\n",
        "input_2d.shape"
      ],
      "metadata": {
        "colab": {
          "base_uri": "https://localhost:8080/"
        },
        "id": "3cAKl6e0YlnS",
        "outputId": "02ea8771-2514-41aa-96e8-9be16777e07a"
      },
      "execution_count": 20,
      "outputs": [
        {
          "output_type": "execute_result",
          "data": {
            "text/plain": [
              "torch.Size([1, 2, 5])"
            ]
          },
          "metadata": {},
          "execution_count": 20
        }
      ]
    },
    {
      "cell_type": "code",
      "source": [
        "cnn1d_5 = nn.Conv1d(in_channels=2, out_channels=1, kernel_size=3, stride=1)\n",
        "\n",
        "print(\"input_2d: \\n\")\n",
        "print(cnn1d_5(input_2d).shape, \"\\n\")\n",
        "print(cnn1d_5(input_2d))"
      ],
      "metadata": {
        "colab": {
          "base_uri": "https://localhost:8080/"
        },
        "id": "ss11BQ-BYvis",
        "outputId": "3e29a383-b768-4e29-c4ae-97c35092fcfe"
      },
      "execution_count": 28,
      "outputs": [
        {
          "output_type": "stream",
          "name": "stdout",
          "text": [
            "input_2d: \n",
            "\n",
            "torch.Size([1, 1, 3]) \n",
            "\n",
            "tensor([[[-0.4446, -0.6032, -0.7618]]], grad_fn=<SqueezeBackward1>)\n"
          ]
        }
      ]
    },
    {
      "cell_type": "code",
      "source": [
        "#Aumentar Stride\n",
        "cnn1d_5 = nn.Conv1d(in_channels=2, out_channels=1, kernel_size=3, stride=2)\n",
        "\n",
        "print(\"cnn2d_1: \\n\")\n",
        "print(cnn1d_5(input_2d).shape, \"\\n\")\n",
        "print(cnn1d_5(input_2d))"
      ],
      "metadata": {
        "colab": {
          "base_uri": "https://localhost:8080/"
        },
        "id": "Em9BHMh4ZOHH",
        "outputId": "9ba4ca5f-411c-4aef-e62b-49646855aef4"
      },
      "execution_count": 34,
      "outputs": [
        {
          "output_type": "stream",
          "name": "stdout",
          "text": [
            "cnn2d_1: \n",
            "\n",
            "torch.Size([1, 1, 2]) \n",
            "\n",
            "tensor([[[-5.2405, -6.6183]]], grad_fn=<SqueezeBackward1>)\n"
          ]
        }
      ]
    },
    {
      "cell_type": "code",
      "source": [
        "'''\n",
        "- stride=2\n",
        "- kernel_size=2\n",
        "- out_channels=5\n",
        "- padding=1"
      ],
      "metadata": {
        "id": "F7hGhot_bhK0"
      },
      "execution_count": null,
      "outputs": []
    },
    {
      "cell_type": "code",
      "source": [
        "#cambiar Kerner\n",
        "cnn1d_7 = nn.Conv1d(in_channels=2, out_channels=1, kernel_size=2, stride=1)\n",
        "\n",
        "print(\"input_2d: \\n\")\n",
        "print(cnn1d_7(input_2d).shape, \"\\n\")\n",
        "print(cnn1d_7(input_2d))"
      ],
      "metadata": {
        "colab": {
          "base_uri": "https://localhost:8080/"
        },
        "id": "32xRIQq1akdQ",
        "outputId": "a40ad444-2b67-4f40-d232-3a062c5136d7"
      },
      "execution_count": 29,
      "outputs": [
        {
          "output_type": "stream",
          "name": "stdout",
          "text": [
            "input_2d: \n",
            "\n",
            "torch.Size([1, 1, 4]) \n",
            "\n",
            "tensor([[[0.3984, 0.4642, 0.5300, 0.5959]]], grad_fn=<SqueezeBackward1>)\n"
          ]
        }
      ]
    },
    {
      "cell_type": "code",
      "source": [
        "cnn1d_5 = nn.Conv1d(in_channels=2, out_channels=5, kernel_size=3, stride=1)\n",
        "\n",
        "print(\"input_2d: \\n\")\n",
        "print(cnn1d_5(input_2d).shape, \"\\n\")\n",
        "print(cnn1d_5(input_2d))"
      ],
      "metadata": {
        "colab": {
          "base_uri": "https://localhost:8080/"
        },
        "id": "vMaCQlztb3hq",
        "outputId": "5ec23682-b0d0-42ce-be24-4beabf491e68"
      },
      "execution_count": 30,
      "outputs": [
        {
          "output_type": "stream",
          "name": "stdout",
          "text": [
            "input_2d: \n",
            "\n",
            "torch.Size([1, 5, 3]) \n",
            "\n",
            "tensor([[[ 7.5019e-01,  4.9095e-01,  2.3172e-01],\n",
            "         [ 6.3000e-01,  6.4434e-01,  6.5867e-01],\n",
            "         [ 3.8812e-02,  2.1958e-04, -3.8373e-02],\n",
            "         [-3.9295e+00, -4.9596e+00, -5.9898e+00],\n",
            "         [ 3.4925e-01,  1.4921e-01, -5.0818e-02]]], grad_fn=<SqueezeBackward1>)\n"
          ]
        }
      ]
    },
    {
      "cell_type": "code",
      "source": [
        "#padding\n",
        "cnn1d_ = nn.Conv1d(in_channels=2, out_channels=1, kernel_size=3, stride=1, padding = 1)\n",
        "\n",
        "print(\"input_2d: \\n\")\n",
        "print(cnn1d_5(input_2d).shape, \"\\n\")\n",
        "print(cnn1d_5(input_2d))"
      ],
      "metadata": {
        "colab": {
          "base_uri": "https://localhost:8080/"
        },
        "id": "VREZU-3UcEiY",
        "outputId": "a5f7363e-7c81-47e1-ad73-8e9936718512"
      },
      "execution_count": 31,
      "outputs": [
        {
          "output_type": "stream",
          "name": "stdout",
          "text": [
            "input_2d: \n",
            "\n",
            "torch.Size([1, 5, 3]) \n",
            "\n",
            "tensor([[[ 7.5019e-01,  4.9095e-01,  2.3172e-01],\n",
            "         [ 6.3000e-01,  6.4434e-01,  6.5867e-01],\n",
            "         [ 3.8812e-02,  2.1958e-04, -3.8373e-02],\n",
            "         [-3.9295e+00, -4.9596e+00, -5.9898e+00],\n",
            "         [ 3.4925e-01,  1.4921e-01, -5.0818e-02]]], grad_fn=<SqueezeBackward1>)\n"
          ]
        }
      ]
    },
    {
      "cell_type": "code",
      "source": [
        "######"
      ],
      "metadata": {
        "id": "dXIPw2cTcVZF"
      },
      "execution_count": null,
      "outputs": []
    },
    {
      "cell_type": "code",
      "source": [
        "input_2d_img = torch.tensor([[[1,2,3,4,5,6,7,8,9,10],\n",
        "                              [1,2,3,4,5,6,7,8,9,10],\n",
        "                              [1,2,3,4,5,6,7,8,9,10]],\n",
        "                              [[1,2,3,4,5,6,7,8,9,10],\n",
        "                              [1,2,3,4,5,6,7,8,9,10],\n",
        "                              [1,2,3,4,5,6,7,8,9,10]],\n",
        "                              [[1,2,3,4,5,6,7,8,9,10],\n",
        "                              [1,2,3,4,5,6,7,8,9,10],\n",
        "                              [1,2,3,4,5,6,7,8,9,10]]],\n",
        "                              dtype = torch.float)"
      ],
      "metadata": {
        "id": "d3uZNXAVgDvs"
      },
      "execution_count": 47,
      "outputs": []
    },
    {
      "cell_type": "code",
      "source": [
        "input_2d_img = input_2d_img.unsqueeze(0)\n",
        "input_2d_img.shape"
      ],
      "metadata": {
        "colab": {
          "base_uri": "https://localhost:8080/"
        },
        "id": "wnoC1cmKf5xg",
        "outputId": "0029d554-9502-462f-f52a-8515344cdf4b"
      },
      "execution_count": 48,
      "outputs": [
        {
          "output_type": "execute_result",
          "data": {
            "text/plain": [
              "torch.Size([1, 3, 3, 10])"
            ]
          },
          "metadata": {},
          "execution_count": 48
        }
      ]
    },
    {
      "cell_type": "code",
      "source": [
        "cnn2d_1 = nn.Conv2d(in_channels=3, out_channels=1, kernel_size=3, stride=1)\n",
        "\n",
        "print(\"input_2d_img: \\n\")\n",
        "print(cnn2d_1(input_2d_img).shape, \"\\n\")\n",
        "print(cnn2d_1(input_2d_img))"
      ],
      "metadata": {
        "colab": {
          "base_uri": "https://localhost:8080/"
        },
        "id": "0fFwJXGzhsgJ",
        "outputId": "7dbcc295-f888-478f-ee28-a32bfef4d7d9"
      },
      "execution_count": 49,
      "outputs": [
        {
          "output_type": "stream",
          "name": "stdout",
          "text": [
            "input_2d_img: \n",
            "\n",
            "torch.Size([1, 1, 1, 8]) \n",
            "\n",
            "tensor([[[[-0.1855, -0.4731, -0.7606, -1.0482, -1.3358, -1.6234, -1.9110,\n",
            "           -2.1985]]]], grad_fn=<ThnnConv2DBackward0>)\n"
          ]
        }
      ]
    },
    {
      "cell_type": "code",
      "source": [
        ""
      ],
      "metadata": {
        "id": "oq5gVt7vhstR"
      },
      "execution_count": null,
      "outputs": []
    }
  ]
}